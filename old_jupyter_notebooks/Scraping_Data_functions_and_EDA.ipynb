{
 "cells": [
  {
   "cell_type": "code",
   "execution_count": 83,
   "metadata": {},
   "outputs": [],
   "source": [
    "import requests\n",
    "from bs4 import BeautifulSoup as BS\n",
    "import pandas as pd\n",
    "import time\n",
    "import matplotlib.pyplot as plt"
   ]
  },
  {
   "cell_type": "code",
   "execution_count": 84,
   "metadata": {},
   "outputs": [],
   "source": [
    "def get_winners (link):\n",
    "    page = requests.get(link)\n",
    "    soup = BS(page.content, 'html.parser')\n",
    "    idk=soup.select('div[class=\"round\"]')\n",
    "    i=0\n",
    "    k=0\n",
    "    winners=[]\n",
    "    for thing in list(range(1,100)):\n",
    "        if k == 22:\n",
    "            break\n",
    "        elif k == 0 or k== 1 or k==2 or k==3 or k==5 or k==6 or k==7 or k==8 or k==10 or k==11 or k==12 or k==13 or k==15 or k==16 or k==17 or k==18 or k==20 or k==21:\n",
    "            try:\n",
    "                winners.append(idk[k].select('div')[i].select('div[class=\"winner\"]')[0].select('span')[0].string)\n",
    "                i+=3\n",
    "            except:\n",
    "                i=0\n",
    "                k+=1\n",
    "                continue\n",
    "        else:\n",
    "            i=0\n",
    "            k+=1\n",
    "            continue\n",
    "    winners_int=[]\n",
    "    for thing in winners:\n",
    "        winners_int.append(int(thing))\n",
    "    return winners_int\n",
    "    "
   ]
  },
  {
   "cell_type": "code",
   "execution_count": 85,
   "metadata": {},
   "outputs": [],
   "source": [
    "#function for getting the teams\n",
    "#gets the teams that played each other all together\n",
    "def get_teams (link,k):\n",
    "    page = requests.get(link)\n",
    "    soup = BS(page.content, 'html.parser')\n",
    "    idk=soup.select('div[class=\"round\"]')\n",
    "    i=1\n",
    "    maybe = []\n",
    "    for thing in list(range(1,100)):\n",
    "        if i%3 !=0:\n",
    "            try:\n",
    "                maybe.append(idk[k].select('div')[i].select('span')[0].string)\n",
    "                i+=1\n",
    "            except:\n",
    "                i+=1\n",
    "                continue\n",
    "        else:\n",
    "            i+=1\n",
    "            continue\n",
    "    return maybe"
   ]
  },
  {
   "cell_type": "code",
   "execution_count": 86,
   "metadata": {},
   "outputs": [],
   "source": [
    "#uses the function to split up the teams that played each other into 2 separate lists\n",
    "def split_up_teams (link):\n",
    "    All_teams = []\n",
    "    for thing in list(range(0,23)):\n",
    "        new=get_teams (link,thing)\n",
    "        All_teams.extend(new)\n",
    "    All_teams.pop(-1)\n",
    "    All_teams.pop(30)\n",
    "    All_teams.pop(60)\n",
    "    All_teams.pop(90)\n",
    "    All_teams.pop(120)\n",
    "    first_team = All_teams[0::2]\n",
    "    second_team = All_teams[1::2]\n",
    "    first_team_int = []\n",
    "    for thing in first_team:\n",
    "        first_team_int.append(int(thing))\n",
    "    second_team_int = []\n",
    "    for thing in second_team:\n",
    "        second_team_int.append(int(thing))\n",
    "    first_team_pd = pd.DataFrame(first_team_int)\n",
    "    second_team_pd = pd.DataFrame(second_team_int)\n",
    "    point_difference = first_team_pd-second_team_pd\n",
    "    point_difference_list=point_difference.values.tolist()\n",
    "    point_diff_abs = []\n",
    "    for thing in point_difference_list:\n",
    "        point_diff_abs.append(abs(thing[0]))\n",
    "    return first_team_int,second_team_int,point_diff_abs"
   ]
  },
  {
   "cell_type": "code",
   "execution_count": 87,
   "metadata": {},
   "outputs": [],
   "source": [
    "#get bar charts for individual years of the higher ranked wins and lower ranked wins as individual series\n",
    "#and on x axis is point difference between them\n",
    "def show_plot (link):\n",
    "    first_team_int = []\n",
    "    second_team_int = []\n",
    "    point_diff_abs = []\n",
    "    winners_int=get_winners (link)\n",
    "    three_lists=split_up_teams (link)\n",
    "    first_team_int.extend(three_lists[0])\n",
    "    second_team_int.extend(three_lists[1])\n",
    "    point_diff_abs.extend(three_lists[2])\n",
    "    df = pd.DataFrame({\"first_team\": first_team_int, \"second_team\": second_team_int,\n",
    "                       \"winner\" : winners_int, \"point_difference\": point_diff_abs})\n",
    "    result = []\n",
    "    i = 0\n",
    "    for thing in list(df['winner']):\n",
    "        #print(f'this is {i}')\n",
    "        if list(df['first_team'])[i] > list(df['second_team'])[i] and list(df['first_team'])[i] == list(df['winner'])[i]:\n",
    "            #print(f'this is if1')\n",
    "            result.append(2)\n",
    "        elif list(df['second_team'])[i] > list(df['first_team'])[i] and list(df['second_team'])[i] == list(df['winner'])[i]:\n",
    "            #print(f'this is elif1')\n",
    "            result.append(2)\n",
    "        elif list(df['first_team'])[i] < list(df['second_team'])[i] and list(df['first_team'])[i] == list(df['winner'])[i]:\n",
    "            #print(f'this is elif2')\n",
    "            result.append(1)\n",
    "        elif list(df['second_team'])[i] < list(df['first_team'])[i] and list(df['second_team'])[i] == list(df['winner'])[i]:\n",
    "            #print(f'this is elif3')\n",
    "            result.append(1)\n",
    "        else:\n",
    "            result.append(0)\n",
    "        i+=1\n",
    "    df['result']=result\n",
    "    higher_rank_won = []\n",
    "    lower_rank_won =[]\n",
    "    for thing in list(range(1,16)):\n",
    "        meh=df[(df['point_difference']== thing) & (df['result']==1)]\n",
    "        higher_rank_won.append(meh.shape[0])\n",
    "        meh2 =df[(df['point_difference']== thing) & (df['result']==2)]\n",
    "        lower_rank_won.append(meh2.shape[0])\n",
    "    import numpy as np\n",
    "    import matplotlib.pyplot as plt\n",
    "\n",
    "    # data to plot\n",
    "    n_groups = 15\n",
    "    higher_rank_won\n",
    "    lower_rank_won\n",
    "\n",
    "    # create plot\n",
    "    fig, ax = plt.subplots()\n",
    "    index = np.arange(n_groups)\n",
    "    bar_width = 0.35\n",
    "    opacity = 0.8\n",
    "\n",
    "    rects1 = plt.bar(index, higher_rank_won, bar_width,\n",
    "    alpha=opacity,\n",
    "    color='b',\n",
    "    label='higher_rank_won')\n",
    "\n",
    "    rects2 = plt.bar(index + bar_width, lower_rank_won, bar_width,\n",
    "    alpha=opacity,\n",
    "    color='g',\n",
    "    label='lower_rank_won')\n",
    "\n",
    "    plt.xlabel('point_difference')\n",
    "    plt.ylabel('times_they_won')\n",
    "    plt.xticks(index + bar_width, ('1', '2', '3', '4','5','6','7','8','9','10','11','12','13','14','15'))\n",
    "    plt.legend()\n",
    "\n",
    "    plt.tight_layout()\n",
    "    return plt.show()\n"
   ]
  },
  {
   "cell_type": "code",
   "execution_count": 88,
   "metadata": {},
   "outputs": [],
   "source": [
    "#creates graphs that u ended up using with the difference in seed using the data frame already loaded"
   ]
  },
  {
   "cell_type": "code",
   "execution_count": 89,
   "metadata": {},
   "outputs": [],
   "source": [
    "def create_graph (first_team, second_team, winner, point_difference):\n",
    "    df1 = pd.DataFrame({\"first_team\": first_team, \"second_team\": second_team,\n",
    "                           \"winner\" : winner, \"point_difference\": point_difference})\n",
    "    result = []\n",
    "    i = 0\n",
    "    for thing in list(df1['winner']):\n",
    "        #print(f'this is {i}')\n",
    "        if list(df1['first_team'])[i] > list(df1['second_team'])[i] and list(df1['first_team'])[i] == list(df1['winner'])[i]:\n",
    "            #print(f'this is if1')\n",
    "            result.append(2)\n",
    "        elif list(df1['second_team'])[i] > list(df1['first_team'])[i] and list(df1['second_team'])[i] == list(df1['winner'])[i]:\n",
    "            #print(f'this is elif1')\n",
    "            result.append(2)\n",
    "        elif list(df1['first_team'])[i] < list(df1['second_team'])[i] and list(df1['first_team'])[i] == list(df1['winner'])[i]:\n",
    "            #print(f'this is elif2')\n",
    "            result.append(1)\n",
    "        elif list(df1['second_team'])[i] < list(df1['first_team'])[i] and list(df1['second_team'])[i] == list(df1['winner'])[i]:\n",
    "            #print(f'this is elif3')\n",
    "            result.append(1)\n",
    "        else:\n",
    "            result.append(0)\n",
    "        i+=1\n",
    "    df1['result']=result\n",
    "    higher_rank_won = []\n",
    "    lower_rank_won =[]\n",
    "    for thing in list(range(1,16)):\n",
    "        meh=df1[(df1['point_difference']== thing) & (df1['result']==1)]\n",
    "        higher_rank_won.append(meh.shape[0])\n",
    "        meh2 =df1[(df1['point_difference']== thing) & (df1['result']==2)]\n",
    "        lower_rank_won.append(meh2.shape[0])\n",
    "    import numpy as np\n",
    "    import matplotlib.pyplot as plt\n",
    "\n",
    "    # data to plot\n",
    "    n_groups = 15\n",
    "    higher_rank_won\n",
    "    lower_rank_won\n",
    "\n",
    "    # create plot\n",
    "    fig, ax = plt.subplots()\n",
    "    index = np.arange(n_groups)\n",
    "    bar_width = 0.35\n",
    "    opacity = 0.8\n",
    "\n",
    "    rects1 = plt.bar(index, higher_rank_won, bar_width,\n",
    "    alpha=opacity,\n",
    "    color='b',\n",
    "    label='lower_seed_number')\n",
    "\n",
    "    rects2 = plt.bar(index + bar_width, lower_rank_won, bar_width,\n",
    "    alpha=opacity,\n",
    "    color='g',\n",
    "    label='higher_seed_number')\n",
    "\n",
    "    plt.xlabel('point_difference_between_seeds')\n",
    "    plt.ylabel('wins')\n",
    "    plt.xticks(index + bar_width, ('1', '2', '3', '4','5','6','7','8','9','10','11','12','13','14','15'))\n",
    "    plt.legend()\n",
    "\n",
    "    plt.tight_layout()\n",
    "    return plt.show()\n"
   ]
  },
  {
   "cell_type": "code",
   "execution_count": 90,
   "metadata": {},
   "outputs": [],
   "source": [
    "# Gets the percent of the time the higher rank won for each seed difference"
   ]
  },
  {
   "cell_type": "code",
   "execution_count": 91,
   "metadata": {},
   "outputs": [],
   "source": [
    "def get_percentage_higher_rank_wins (first_team, second_team, winner, point_difference):\n",
    "    df1 = pd.DataFrame({\"first_team\": first_team, \"second_team\": second_team,\n",
    "                               \"winner\" : winner, \"point_difference\": point_difference})\n",
    "    result = []\n",
    "    i = 0\n",
    "    for thing in list(df1['winner']):\n",
    "        #print(f'this is {i}')\n",
    "        if list(df1['first_team'])[i] > list(df1['second_team'])[i] and list(df1['first_team'])[i] == list(df1['winner'])[i]:\n",
    "            #print(f'this is if1')\n",
    "            result.append(2)\n",
    "        elif list(df1['second_team'])[i] > list(df1['first_team'])[i] and list(df1['second_team'])[i] == list(df1['winner'])[i]:\n",
    "            #print(f'this is elif1')\n",
    "            result.append(2)\n",
    "        elif list(df1['first_team'])[i] < list(df1['second_team'])[i] and list(df1['first_team'])[i] == list(df1['winner'])[i]:\n",
    "            #print(f'this is elif2')\n",
    "            result.append(1)\n",
    "        elif list(df1['second_team'])[i] < list(df1['first_team'])[i] and list(df1['second_team'])[i] == list(df1['winner'])[i]:\n",
    "            #print(f'this is elif3')\n",
    "            result.append(1)\n",
    "        else:\n",
    "            result.append(0)\n",
    "        i+=1\n",
    "    df1['result']=result\n",
    "    higher_rank_won = []\n",
    "    lower_rank_won =[]\n",
    "    for thing in list(range(1,16)):\n",
    "        meh=df1[(df1['point_difference']== thing) & (df1['result']==1)]\n",
    "        higher_rank_won.append(meh.shape[0])\n",
    "        meh2 =df1[(df1['point_difference']== thing) & (df1['result']==2)]\n",
    "        lower_rank_won.append(meh2.shape[0])\n",
    "    percent_better_ranked_wins= []\n",
    "    i=0\n",
    "    for thing in higher_rank_won:\n",
    "        try:\n",
    "            percent_better_ranked_wins.append(thing/(thing+lower_rank_won[i])*100)\n",
    "            i+=1\n",
    "        except:\n",
    "            percent_better_ranked_wins.append(None)\n",
    "            i+=1\n",
    "    return percent_better_ranked_wins"
   ]
  },
  {
   "cell_type": "markdown",
   "metadata": {},
   "source": [
    "# Get links for all years in March Madness tournament"
   ]
  },
  {
   "cell_type": "code",
   "execution_count": 33,
   "metadata": {},
   "outputs": [],
   "source": [
    "list_years = []\n",
    "i = 1985\n",
    "for num in range(-15,20):\n",
    "    list_years.append(str(i))\n",
    "    i+=1"
   ]
  },
  {
   "cell_type": "code",
   "execution_count": 34,
   "metadata": {},
   "outputs": [],
   "source": [
    "links = []\n",
    "for thing in list_years:\n",
    "    links.append('https://www.sports-reference.com/cbb/postseason/'+thing+'-ncaa.html')"
   ]
  },
  {
   "cell_type": "code",
   "execution_count": 35,
   "metadata": {},
   "outputs": [
    {
     "data": {
      "text/plain": [
       "['https://www.sports-reference.com/cbb/postseason/1985-ncaa.html',\n",
       " 'https://www.sports-reference.com/cbb/postseason/1986-ncaa.html',\n",
       " 'https://www.sports-reference.com/cbb/postseason/1987-ncaa.html',\n",
       " 'https://www.sports-reference.com/cbb/postseason/1988-ncaa.html',\n",
       " 'https://www.sports-reference.com/cbb/postseason/1989-ncaa.html',\n",
       " 'https://www.sports-reference.com/cbb/postseason/1990-ncaa.html',\n",
       " 'https://www.sports-reference.com/cbb/postseason/1991-ncaa.html',\n",
       " 'https://www.sports-reference.com/cbb/postseason/1992-ncaa.html',\n",
       " 'https://www.sports-reference.com/cbb/postseason/1993-ncaa.html',\n",
       " 'https://www.sports-reference.com/cbb/postseason/1994-ncaa.html',\n",
       " 'https://www.sports-reference.com/cbb/postseason/1995-ncaa.html',\n",
       " 'https://www.sports-reference.com/cbb/postseason/1996-ncaa.html',\n",
       " 'https://www.sports-reference.com/cbb/postseason/1997-ncaa.html',\n",
       " 'https://www.sports-reference.com/cbb/postseason/1998-ncaa.html',\n",
       " 'https://www.sports-reference.com/cbb/postseason/1999-ncaa.html',\n",
       " 'https://www.sports-reference.com/cbb/postseason/2000-ncaa.html',\n",
       " 'https://www.sports-reference.com/cbb/postseason/2001-ncaa.html',\n",
       " 'https://www.sports-reference.com/cbb/postseason/2002-ncaa.html',\n",
       " 'https://www.sports-reference.com/cbb/postseason/2003-ncaa.html',\n",
       " 'https://www.sports-reference.com/cbb/postseason/2004-ncaa.html',\n",
       " 'https://www.sports-reference.com/cbb/postseason/2005-ncaa.html',\n",
       " 'https://www.sports-reference.com/cbb/postseason/2006-ncaa.html',\n",
       " 'https://www.sports-reference.com/cbb/postseason/2007-ncaa.html',\n",
       " 'https://www.sports-reference.com/cbb/postseason/2008-ncaa.html',\n",
       " 'https://www.sports-reference.com/cbb/postseason/2009-ncaa.html',\n",
       " 'https://www.sports-reference.com/cbb/postseason/2010-ncaa.html',\n",
       " 'https://www.sports-reference.com/cbb/postseason/2011-ncaa.html',\n",
       " 'https://www.sports-reference.com/cbb/postseason/2012-ncaa.html',\n",
       " 'https://www.sports-reference.com/cbb/postseason/2013-ncaa.html',\n",
       " 'https://www.sports-reference.com/cbb/postseason/2014-ncaa.html',\n",
       " 'https://www.sports-reference.com/cbb/postseason/2015-ncaa.html',\n",
       " 'https://www.sports-reference.com/cbb/postseason/2016-ncaa.html',\n",
       " 'https://www.sports-reference.com/cbb/postseason/2017-ncaa.html',\n",
       " 'https://www.sports-reference.com/cbb/postseason/2018-ncaa.html',\n",
       " 'https://www.sports-reference.com/cbb/postseason/2019-ncaa.html']"
      ]
     },
     "execution_count": 35,
     "metadata": {},
     "output_type": "execute_result"
    }
   ],
   "source": [
    "links"
   ]
  },
  {
   "cell_type": "markdown",
   "metadata": {},
   "source": [
    "# Uses functions from above to get the seed score for each team that played in every round, the winner, and the point difference between the seeds"
   ]
  },
  {
   "cell_type": "code",
   "execution_count": 92,
   "metadata": {},
   "outputs": [],
   "source": [
    "links = ['https://www.sports-reference.com/cbb/postseason/2002-ncaa.html']"
   ]
  },
  {
   "cell_type": "code",
   "execution_count": 93,
   "metadata": {},
   "outputs": [
    {
     "name": "stdout",
     "output_type": "stream",
     "text": [
      "https://www.sports-reference.com/cbb/postseason/2002-ncaa.html\n"
     ]
    }
   ],
   "source": [
    "first_team_int = []\n",
    "second_team_int = []\n",
    "point_diff_abs = []\n",
    "winners_int = []\n",
    "for link in links:\n",
    "    print(link)\n",
    "    winners=get_winners (link)\n",
    "    three_lists=split_up_teams (link)\n",
    "    first_team_int.extend(three_lists[0])\n",
    "    second_team_int.extend(three_lists[1])\n",
    "    point_diff_abs.extend(three_lists[2])\n",
    "    winners_int.extend(winners)\n",
    "    #time.sleep(3)"
   ]
  },
  {
   "cell_type": "markdown",
   "metadata": {},
   "source": [
    "# creates dataframe for the All of the data collected in step above"
   ]
  },
  {
   "cell_type": "code",
   "execution_count": 94,
   "metadata": {},
   "outputs": [],
   "source": [
    "df = pd.DataFrame({\"first_team\": first_team_int, \"second_team\": second_team_int,\n",
    "                       \"winner\" : winners_int, \"point_difference\": point_diff_abs})\n",
    "result = []\n",
    "i = 0\n",
    "for thing in list(df['winner']):\n",
    "    #print(f'this is {i}')\n",
    "    if list(df['first_team'])[i] > list(df['second_team'])[i] and list(df['first_team'])[i] == list(df['winner'])[i]:\n",
    "        #print(f'this is if1')\n",
    "        result.append(2)\n",
    "    elif list(df['second_team'])[i] > list(df['first_team'])[i] and list(df['second_team'])[i] == list(df['winner'])[i]:\n",
    "        #print(f'this is elif1')\n",
    "        result.append(2)\n",
    "    elif list(df['first_team'])[i] < list(df['second_team'])[i] and list(df['first_team'])[i] == list(df['winner'])[i]:\n",
    "        #print(f'this is elif2')\n",
    "        result.append(1)\n",
    "    elif list(df['second_team'])[i] < list(df['first_team'])[i] and list(df['second_team'])[i] == list(df['winner'])[i]:\n",
    "        #print(f'this is elif3')\n",
    "        result.append(1)\n",
    "    else:\n",
    "        result.append(0)\n",
    "    i+=1\n",
    "df['result']=result"
   ]
  },
  {
   "cell_type": "code",
   "execution_count": 38,
   "metadata": {},
   "outputs": [],
   "source": [
    "df.to_csv('All_results_2.csv')"
   ]
  },
  {
   "cell_type": "code",
   "execution_count": 12,
   "metadata": {},
   "outputs": [],
   "source": [
    "df = pd.read_csv('All_results_2.csv')"
   ]
  },
  {
   "cell_type": "code",
   "execution_count": 95,
   "metadata": {
    "scrolled": true
   },
   "outputs": [
    {
     "data": {
      "text/html": [
       "<div>\n",
       "<style scoped>\n",
       "    .dataframe tbody tr th:only-of-type {\n",
       "        vertical-align: middle;\n",
       "    }\n",
       "\n",
       "    .dataframe tbody tr th {\n",
       "        vertical-align: top;\n",
       "    }\n",
       "\n",
       "    .dataframe thead th {\n",
       "        text-align: right;\n",
       "    }\n",
       "</style>\n",
       "<table border=\"1\" class=\"dataframe\">\n",
       "  <thead>\n",
       "    <tr style=\"text-align: right;\">\n",
       "      <th></th>\n",
       "      <th>first_team</th>\n",
       "      <th>second_team</th>\n",
       "      <th>winner</th>\n",
       "      <th>point_difference</th>\n",
       "      <th>result</th>\n",
       "    </tr>\n",
       "  </thead>\n",
       "  <tbody>\n",
       "    <tr>\n",
       "      <th>0</th>\n",
       "      <td>1</td>\n",
       "      <td>16</td>\n",
       "      <td>1</td>\n",
       "      <td>15</td>\n",
       "      <td>1</td>\n",
       "    </tr>\n",
       "    <tr>\n",
       "      <th>1</th>\n",
       "      <td>8</td>\n",
       "      <td>9</td>\n",
       "      <td>8</td>\n",
       "      <td>1</td>\n",
       "      <td>1</td>\n",
       "    </tr>\n",
       "    <tr>\n",
       "      <th>2</th>\n",
       "      <td>5</td>\n",
       "      <td>12</td>\n",
       "      <td>12</td>\n",
       "      <td>7</td>\n",
       "      <td>2</td>\n",
       "    </tr>\n",
       "    <tr>\n",
       "      <th>3</th>\n",
       "      <td>4</td>\n",
       "      <td>13</td>\n",
       "      <td>4</td>\n",
       "      <td>9</td>\n",
       "      <td>1</td>\n",
       "    </tr>\n",
       "    <tr>\n",
       "      <th>4</th>\n",
       "      <td>6</td>\n",
       "      <td>11</td>\n",
       "      <td>11</td>\n",
       "      <td>5</td>\n",
       "      <td>2</td>\n",
       "    </tr>\n",
       "    <tr>\n",
       "      <th>5</th>\n",
       "      <td>3</td>\n",
       "      <td>14</td>\n",
       "      <td>3</td>\n",
       "      <td>11</td>\n",
       "      <td>1</td>\n",
       "    </tr>\n",
       "    <tr>\n",
       "      <th>6</th>\n",
       "      <td>7</td>\n",
       "      <td>10</td>\n",
       "      <td>7</td>\n",
       "      <td>3</td>\n",
       "      <td>1</td>\n",
       "    </tr>\n",
       "    <tr>\n",
       "      <th>7</th>\n",
       "      <td>2</td>\n",
       "      <td>15</td>\n",
       "      <td>2</td>\n",
       "      <td>13</td>\n",
       "      <td>1</td>\n",
       "    </tr>\n",
       "    <tr>\n",
       "      <th>8</th>\n",
       "      <td>1</td>\n",
       "      <td>8</td>\n",
       "      <td>1</td>\n",
       "      <td>7</td>\n",
       "      <td>1</td>\n",
       "    </tr>\n",
       "    <tr>\n",
       "      <th>9</th>\n",
       "      <td>12</td>\n",
       "      <td>4</td>\n",
       "      <td>4</td>\n",
       "      <td>8</td>\n",
       "      <td>1</td>\n",
       "    </tr>\n",
       "    <tr>\n",
       "      <th>10</th>\n",
       "      <td>11</td>\n",
       "      <td>3</td>\n",
       "      <td>11</td>\n",
       "      <td>8</td>\n",
       "      <td>2</td>\n",
       "    </tr>\n",
       "    <tr>\n",
       "      <th>11</th>\n",
       "      <td>7</td>\n",
       "      <td>2</td>\n",
       "      <td>2</td>\n",
       "      <td>5</td>\n",
       "      <td>1</td>\n",
       "    </tr>\n",
       "    <tr>\n",
       "      <th>12</th>\n",
       "      <td>1</td>\n",
       "      <td>4</td>\n",
       "      <td>1</td>\n",
       "      <td>3</td>\n",
       "      <td>1</td>\n",
       "    </tr>\n",
       "    <tr>\n",
       "      <th>13</th>\n",
       "      <td>11</td>\n",
       "      <td>2</td>\n",
       "      <td>2</td>\n",
       "      <td>9</td>\n",
       "      <td>1</td>\n",
       "    </tr>\n",
       "    <tr>\n",
       "      <th>14</th>\n",
       "      <td>1</td>\n",
       "      <td>2</td>\n",
       "      <td>1</td>\n",
       "      <td>1</td>\n",
       "      <td>1</td>\n",
       "    </tr>\n",
       "    <tr>\n",
       "      <th>15</th>\n",
       "      <td>1</td>\n",
       "      <td>16</td>\n",
       "      <td>1</td>\n",
       "      <td>15</td>\n",
       "      <td>1</td>\n",
       "    </tr>\n",
       "    <tr>\n",
       "      <th>16</th>\n",
       "      <td>8</td>\n",
       "      <td>9</td>\n",
       "      <td>8</td>\n",
       "      <td>1</td>\n",
       "      <td>1</td>\n",
       "    </tr>\n",
       "    <tr>\n",
       "      <th>17</th>\n",
       "      <td>5</td>\n",
       "      <td>12</td>\n",
       "      <td>12</td>\n",
       "      <td>7</td>\n",
       "      <td>2</td>\n",
       "    </tr>\n",
       "    <tr>\n",
       "      <th>18</th>\n",
       "      <td>4</td>\n",
       "      <td>13</td>\n",
       "      <td>4</td>\n",
       "      <td>9</td>\n",
       "      <td>1</td>\n",
       "    </tr>\n",
       "    <tr>\n",
       "      <th>19</th>\n",
       "      <td>6</td>\n",
       "      <td>11</td>\n",
       "      <td>6</td>\n",
       "      <td>5</td>\n",
       "      <td>1</td>\n",
       "    </tr>\n",
       "    <tr>\n",
       "      <th>20</th>\n",
       "      <td>3</td>\n",
       "      <td>14</td>\n",
       "      <td>3</td>\n",
       "      <td>11</td>\n",
       "      <td>1</td>\n",
       "    </tr>\n",
       "    <tr>\n",
       "      <th>21</th>\n",
       "      <td>7</td>\n",
       "      <td>10</td>\n",
       "      <td>7</td>\n",
       "      <td>3</td>\n",
       "      <td>1</td>\n",
       "    </tr>\n",
       "    <tr>\n",
       "      <th>22</th>\n",
       "      <td>2</td>\n",
       "      <td>15</td>\n",
       "      <td>2</td>\n",
       "      <td>13</td>\n",
       "      <td>1</td>\n",
       "    </tr>\n",
       "    <tr>\n",
       "      <th>23</th>\n",
       "      <td>1</td>\n",
       "      <td>8</td>\n",
       "      <td>1</td>\n",
       "      <td>7</td>\n",
       "      <td>1</td>\n",
       "    </tr>\n",
       "    <tr>\n",
       "      <th>24</th>\n",
       "      <td>12</td>\n",
       "      <td>4</td>\n",
       "      <td>4</td>\n",
       "      <td>8</td>\n",
       "      <td>1</td>\n",
       "    </tr>\n",
       "    <tr>\n",
       "      <th>25</th>\n",
       "      <td>6</td>\n",
       "      <td>3</td>\n",
       "      <td>6</td>\n",
       "      <td>3</td>\n",
       "      <td>2</td>\n",
       "    </tr>\n",
       "    <tr>\n",
       "      <th>26</th>\n",
       "      <td>7</td>\n",
       "      <td>2</td>\n",
       "      <td>2</td>\n",
       "      <td>5</td>\n",
       "      <td>1</td>\n",
       "    </tr>\n",
       "    <tr>\n",
       "      <th>27</th>\n",
       "      <td>1</td>\n",
       "      <td>4</td>\n",
       "      <td>1</td>\n",
       "      <td>3</td>\n",
       "      <td>1</td>\n",
       "    </tr>\n",
       "    <tr>\n",
       "      <th>28</th>\n",
       "      <td>6</td>\n",
       "      <td>2</td>\n",
       "      <td>2</td>\n",
       "      <td>4</td>\n",
       "      <td>1</td>\n",
       "    </tr>\n",
       "    <tr>\n",
       "      <th>29</th>\n",
       "      <td>1</td>\n",
       "      <td>2</td>\n",
       "      <td>1</td>\n",
       "      <td>1</td>\n",
       "      <td>1</td>\n",
       "    </tr>\n",
       "    <tr>\n",
       "      <th>...</th>\n",
       "      <td>...</td>\n",
       "      <td>...</td>\n",
       "      <td>...</td>\n",
       "      <td>...</td>\n",
       "      <td>...</td>\n",
       "    </tr>\n",
       "    <tr>\n",
       "      <th>33</th>\n",
       "      <td>4</td>\n",
       "      <td>13</td>\n",
       "      <td>13</td>\n",
       "      <td>9</td>\n",
       "      <td>2</td>\n",
       "    </tr>\n",
       "    <tr>\n",
       "      <th>34</th>\n",
       "      <td>6</td>\n",
       "      <td>11</td>\n",
       "      <td>6</td>\n",
       "      <td>5</td>\n",
       "      <td>1</td>\n",
       "    </tr>\n",
       "    <tr>\n",
       "      <th>35</th>\n",
       "      <td>3</td>\n",
       "      <td>14</td>\n",
       "      <td>3</td>\n",
       "      <td>11</td>\n",
       "      <td>1</td>\n",
       "    </tr>\n",
       "    <tr>\n",
       "      <th>36</th>\n",
       "      <td>7</td>\n",
       "      <td>10</td>\n",
       "      <td>10</td>\n",
       "      <td>3</td>\n",
       "      <td>2</td>\n",
       "    </tr>\n",
       "    <tr>\n",
       "      <th>37</th>\n",
       "      <td>2</td>\n",
       "      <td>15</td>\n",
       "      <td>2</td>\n",
       "      <td>13</td>\n",
       "      <td>1</td>\n",
       "    </tr>\n",
       "    <tr>\n",
       "      <th>38</th>\n",
       "      <td>1</td>\n",
       "      <td>8</td>\n",
       "      <td>1</td>\n",
       "      <td>7</td>\n",
       "      <td>1</td>\n",
       "    </tr>\n",
       "    <tr>\n",
       "      <th>39</th>\n",
       "      <td>5</td>\n",
       "      <td>13</td>\n",
       "      <td>5</td>\n",
       "      <td>8</td>\n",
       "      <td>1</td>\n",
       "    </tr>\n",
       "    <tr>\n",
       "      <th>40</th>\n",
       "      <td>6</td>\n",
       "      <td>3</td>\n",
       "      <td>3</td>\n",
       "      <td>3</td>\n",
       "      <td>1</td>\n",
       "    </tr>\n",
       "    <tr>\n",
       "      <th>41</th>\n",
       "      <td>10</td>\n",
       "      <td>2</td>\n",
       "      <td>10</td>\n",
       "      <td>8</td>\n",
       "      <td>2</td>\n",
       "    </tr>\n",
       "    <tr>\n",
       "      <th>42</th>\n",
       "      <td>1</td>\n",
       "      <td>5</td>\n",
       "      <td>5</td>\n",
       "      <td>4</td>\n",
       "      <td>2</td>\n",
       "    </tr>\n",
       "    <tr>\n",
       "      <th>43</th>\n",
       "      <td>3</td>\n",
       "      <td>10</td>\n",
       "      <td>10</td>\n",
       "      <td>7</td>\n",
       "      <td>2</td>\n",
       "    </tr>\n",
       "    <tr>\n",
       "      <th>44</th>\n",
       "      <td>5</td>\n",
       "      <td>10</td>\n",
       "      <td>5</td>\n",
       "      <td>5</td>\n",
       "      <td>1</td>\n",
       "    </tr>\n",
       "    <tr>\n",
       "      <th>45</th>\n",
       "      <td>1</td>\n",
       "      <td>16</td>\n",
       "      <td>1</td>\n",
       "      <td>15</td>\n",
       "      <td>1</td>\n",
       "    </tr>\n",
       "    <tr>\n",
       "      <th>46</th>\n",
       "      <td>8</td>\n",
       "      <td>9</td>\n",
       "      <td>8</td>\n",
       "      <td>1</td>\n",
       "      <td>1</td>\n",
       "    </tr>\n",
       "    <tr>\n",
       "      <th>47</th>\n",
       "      <td>5</td>\n",
       "      <td>12</td>\n",
       "      <td>12</td>\n",
       "      <td>7</td>\n",
       "      <td>2</td>\n",
       "    </tr>\n",
       "    <tr>\n",
       "      <th>48</th>\n",
       "      <td>4</td>\n",
       "      <td>13</td>\n",
       "      <td>4</td>\n",
       "      <td>9</td>\n",
       "      <td>1</td>\n",
       "    </tr>\n",
       "    <tr>\n",
       "      <th>49</th>\n",
       "      <td>6</td>\n",
       "      <td>11</td>\n",
       "      <td>11</td>\n",
       "      <td>5</td>\n",
       "      <td>2</td>\n",
       "    </tr>\n",
       "    <tr>\n",
       "      <th>50</th>\n",
       "      <td>3</td>\n",
       "      <td>14</td>\n",
       "      <td>3</td>\n",
       "      <td>11</td>\n",
       "      <td>1</td>\n",
       "    </tr>\n",
       "    <tr>\n",
       "      <th>51</th>\n",
       "      <td>7</td>\n",
       "      <td>10</td>\n",
       "      <td>7</td>\n",
       "      <td>3</td>\n",
       "      <td>1</td>\n",
       "    </tr>\n",
       "    <tr>\n",
       "      <th>52</th>\n",
       "      <td>2</td>\n",
       "      <td>15</td>\n",
       "      <td>2</td>\n",
       "      <td>13</td>\n",
       "      <td>1</td>\n",
       "    </tr>\n",
       "    <tr>\n",
       "      <th>53</th>\n",
       "      <td>1</td>\n",
       "      <td>8</td>\n",
       "      <td>8</td>\n",
       "      <td>7</td>\n",
       "      <td>2</td>\n",
       "    </tr>\n",
       "    <tr>\n",
       "      <th>54</th>\n",
       "      <td>12</td>\n",
       "      <td>4</td>\n",
       "      <td>12</td>\n",
       "      <td>8</td>\n",
       "      <td>2</td>\n",
       "    </tr>\n",
       "    <tr>\n",
       "      <th>55</th>\n",
       "      <td>11</td>\n",
       "      <td>3</td>\n",
       "      <td>3</td>\n",
       "      <td>8</td>\n",
       "      <td>1</td>\n",
       "    </tr>\n",
       "    <tr>\n",
       "      <th>56</th>\n",
       "      <td>7</td>\n",
       "      <td>2</td>\n",
       "      <td>2</td>\n",
       "      <td>5</td>\n",
       "      <td>1</td>\n",
       "    </tr>\n",
       "    <tr>\n",
       "      <th>57</th>\n",
       "      <td>8</td>\n",
       "      <td>12</td>\n",
       "      <td>12</td>\n",
       "      <td>4</td>\n",
       "      <td>2</td>\n",
       "    </tr>\n",
       "    <tr>\n",
       "      <th>58</th>\n",
       "      <td>3</td>\n",
       "      <td>2</td>\n",
       "      <td>2</td>\n",
       "      <td>1</td>\n",
       "      <td>1</td>\n",
       "    </tr>\n",
       "    <tr>\n",
       "      <th>59</th>\n",
       "      <td>12</td>\n",
       "      <td>2</td>\n",
       "      <td>2</td>\n",
       "      <td>10</td>\n",
       "      <td>1</td>\n",
       "    </tr>\n",
       "    <tr>\n",
       "      <th>60</th>\n",
       "      <td>1</td>\n",
       "      <td>1</td>\n",
       "      <td>1</td>\n",
       "      <td>0</td>\n",
       "      <td>0</td>\n",
       "    </tr>\n",
       "    <tr>\n",
       "      <th>61</th>\n",
       "      <td>2</td>\n",
       "      <td>5</td>\n",
       "      <td>5</td>\n",
       "      <td>3</td>\n",
       "      <td>2</td>\n",
       "    </tr>\n",
       "    <tr>\n",
       "      <th>62</th>\n",
       "      <td>1</td>\n",
       "      <td>5</td>\n",
       "      <td>1</td>\n",
       "      <td>4</td>\n",
       "      <td>1</td>\n",
       "    </tr>\n",
       "  </tbody>\n",
       "</table>\n",
       "<p>63 rows × 5 columns</p>\n",
       "</div>"
      ],
      "text/plain": [
       "    first_team  second_team  winner  point_difference  result\n",
       "0            1           16       1                15       1\n",
       "1            8            9       8                 1       1\n",
       "2            5           12      12                 7       2\n",
       "3            4           13       4                 9       1\n",
       "4            6           11      11                 5       2\n",
       "5            3           14       3                11       1\n",
       "6            7           10       7                 3       1\n",
       "7            2           15       2                13       1\n",
       "8            1            8       1                 7       1\n",
       "9           12            4       4                 8       1\n",
       "10          11            3      11                 8       2\n",
       "11           7            2       2                 5       1\n",
       "12           1            4       1                 3       1\n",
       "13          11            2       2                 9       1\n",
       "14           1            2       1                 1       1\n",
       "15           1           16       1                15       1\n",
       "16           8            9       8                 1       1\n",
       "17           5           12      12                 7       2\n",
       "18           4           13       4                 9       1\n",
       "19           6           11       6                 5       1\n",
       "20           3           14       3                11       1\n",
       "21           7           10       7                 3       1\n",
       "22           2           15       2                13       1\n",
       "23           1            8       1                 7       1\n",
       "24          12            4       4                 8       1\n",
       "25           6            3       6                 3       2\n",
       "26           7            2       2                 5       1\n",
       "27           1            4       1                 3       1\n",
       "28           6            2       2                 4       1\n",
       "29           1            2       1                 1       1\n",
       "..         ...          ...     ...               ...     ...\n",
       "33           4           13      13                 9       2\n",
       "34           6           11       6                 5       1\n",
       "35           3           14       3                11       1\n",
       "36           7           10      10                 3       2\n",
       "37           2           15       2                13       1\n",
       "38           1            8       1                 7       1\n",
       "39           5           13       5                 8       1\n",
       "40           6            3       3                 3       1\n",
       "41          10            2      10                 8       2\n",
       "42           1            5       5                 4       2\n",
       "43           3           10      10                 7       2\n",
       "44           5           10       5                 5       1\n",
       "45           1           16       1                15       1\n",
       "46           8            9       8                 1       1\n",
       "47           5           12      12                 7       2\n",
       "48           4           13       4                 9       1\n",
       "49           6           11      11                 5       2\n",
       "50           3           14       3                11       1\n",
       "51           7           10       7                 3       1\n",
       "52           2           15       2                13       1\n",
       "53           1            8       8                 7       2\n",
       "54          12            4      12                 8       2\n",
       "55          11            3       3                 8       1\n",
       "56           7            2       2                 5       1\n",
       "57           8           12      12                 4       2\n",
       "58           3            2       2                 1       1\n",
       "59          12            2       2                10       1\n",
       "60           1            1       1                 0       0\n",
       "61           2            5       5                 3       2\n",
       "62           1            5       1                 4       1\n",
       "\n",
       "[63 rows x 5 columns]"
      ]
     },
     "execution_count": 95,
     "metadata": {},
     "output_type": "execute_result"
    }
   ],
   "source": [
    "df\n"
   ]
  },
  {
   "cell_type": "code",
   "execution_count": 98,
   "metadata": {},
   "outputs": [
    {
     "data": {
      "text/plain": [
       "126"
      ]
     },
     "execution_count": 98,
     "metadata": {},
     "output_type": "execute_result"
    }
   ],
   "source": [
    "newdf = pd.DataFrame(np.repeat(df.values,2,axis=0))\n",
    "newdf.columns = df.columns\n",
    "len(list(newdf['first_team']))"
   ]
  },
  {
   "cell_type": "code",
   "execution_count": null,
   "metadata": {},
   "outputs": [],
   "source": [
    "newdf"
   ]
  },
  {
   "cell_type": "code",
   "execution_count": 99,
   "metadata": {},
   "outputs": [],
   "source": [
    "newdf.to_csv('newdf.csv')"
   ]
  },
  {
   "cell_type": "markdown",
   "metadata": {},
   "source": [
    "# Gets the percent of the time the higher rank won for each seed difference"
   ]
  },
  {
   "cell_type": "code",
   "execution_count": 73,
   "metadata": {},
   "outputs": [],
   "source": [
    "#gets the percent of the time the higher rank wins\n",
    "higher_rank_won = []\n",
    "lower_rank_won =[]\n",
    "for thing in list(range(1,16)):\n",
    "    meh=df[(df['point_difference']== thing) & (df['result']==1)]\n",
    "    higher_rank_won.append(meh.shape[0])\n",
    "    meh2 =df[(df['point_difference']== thing) & (df['result']==2)]\n",
    "    lower_rank_won.append(meh2.shape[0])\n",
    "percent_better_ranked_wins= []\n",
    "i=0\n",
    "for thing in higher_rank_won:\n",
    "    try:\n",
    "        percent_better_ranked_wins.append(thing/(thing+lower_rank_won[i])*100)\n",
    "        i+=1\n",
    "    except:\n",
    "        percent_better_ranked_wins.append(None)\n",
    "        i+=1\n",
    "        \n",
    "percent_worse_ranked_wins= []\n",
    "i=0\n",
    "for thing in lower_rank_won:\n",
    "    try:\n",
    "        percent_worse_ranked_wins.append(thing/(thing+higher_rank_won[i])*100)\n",
    "        i+=1\n",
    "    except:\n",
    "        percent_worse_ranked_wins.append(None)\n",
    "        i+=1\n"
   ]
  },
  {
   "cell_type": "code",
   "execution_count": 74,
   "metadata": {
    "scrolled": false
   },
   "outputs": [
    {
     "data": {
      "text/plain": [
       "[53.950953678474114,\n",
       " 54.90196078431373,\n",
       " 62.585034013605444,\n",
       " 70.33898305084746,\n",
       " 66.93877551020408,\n",
       " 66.66666666666666,\n",
       " 69.46902654867256,\n",
       " 75.91836734693878,\n",
       " 80.24691358024691,\n",
       " 62.5,\n",
       " 86.875,\n",
       " 100.0,\n",
       " 94.28571428571428,\n",
       " None,\n",
       " 99.28571428571429]"
      ]
     },
     "execution_count": 74,
     "metadata": {},
     "output_type": "execute_result"
    }
   ],
   "source": [
    "percent_better_ranked_wins"
   ]
  },
  {
   "cell_type": "markdown",
   "metadata": {},
   "source": [
    "# graphs the number of times the higher ranked teem won and the lower ranked team won vs seed difference, and graphs the percent of the time the teams win"
   ]
  },
  {
   "cell_type": "code",
   "execution_count": 56,
   "metadata": {
    "scrolled": true
   },
   "outputs": [
    {
     "data": {
      "image/png": "[encoded data removed]",
      "text/plain": [
       "<Figure size 432x288 with 1 Axes>"
      ]
     },
     "metadata": {
      "needs_background": "light"
     },
     "output_type": "display_data"
    }
   ],
   "source": [
    "higher_rank_won = []\n",
    "lower_rank_won =[]\n",
    "for thing in list(range(1,16)):\n",
    "    meh=df[(df['point_difference']== thing) & (df['result']==1)]\n",
    "    higher_rank_won.append(meh.shape[0])\n",
    "    meh2 =df[(df['point_difference']== thing) & (df['result']==2)]\n",
    "    lower_rank_won.append(meh2.shape[0])\n",
    "import numpy as np\n",
    "import matplotlib.pyplot as plt\n",
    "\n",
    "# data to plot\n",
    "n_groups = 15\n",
    "higher_rank_won\n",
    "lower_rank_won\n",
    "\n",
    "# create plot\n",
    "fig, ax = plt.subplots()\n",
    "index = np.arange(n_groups)\n",
    "bar_width = 0.35\n",
    "opacity = 0.8\n",
    "\n",
    "rects1 = plt.bar(index, higher_rank_won, bar_width,\n",
    "alpha=opacity,\n",
    "color='b',\n",
    "label='higher_ranked_seed')\n",
    "\n",
    "rects2 = plt.bar(index + bar_width, lower_rank_won, bar_width,\n",
    "alpha=opacity,\n",
    "color='g',\n",
    "label='lower_ranked_seed')\n",
    "\n",
    "plt.xlabel('point_difference_between_seeds')\n",
    "plt.ylabel('wins')\n",
    "plt.xticks(index + bar_width, ('1', '2', '3', '4','5','6','7','8','9','10','11','12','13','14','15'))\n",
    "plt.legend()\n",
    "\n",
    "plt.tight_layout()\n",
    "plt.show()"
   ]
  },
  {
   "cell_type": "code",
   "execution_count": 70,
   "metadata": {},
   "outputs": [],
   "source": [
    "percent_better_rank_wins = []\n",
    "for thing in percent_better_ranked_wins:\n",
    "    try:\n",
    "        percent_better_rank_wins.append(float(thing))\n",
    "    except:\n",
    "        percent_better_rank_wins.append(0)"
   ]
  },
  {
   "cell_type": "code",
   "execution_count": 71,
   "metadata": {},
   "outputs": [
    {
     "data": {
      "text/plain": [
       "[53.950953678474114,\n",
       " 54.90196078431373,\n",
       " 62.585034013605444,\n",
       " 70.33898305084746,\n",
       " 66.93877551020408,\n",
       " 66.66666666666666,\n",
       " 69.46902654867256,\n",
       " 75.91836734693878,\n",
       " 80.24691358024691,\n",
       " 62.5,\n",
       " 86.875,\n",
       " 100.0,\n",
       " 94.28571428571428,\n",
       " 0,\n",
       " 99.28571428571429]"
      ]
     },
     "execution_count": 71,
     "metadata": {},
     "output_type": "execute_result"
    }
   ],
   "source": [
    "percent_better_rank_wins"
   ]
  },
  {
   "cell_type": "code",
   "execution_count": 67,
   "metadata": {},
   "outputs": [],
   "source": [
    "percent_worse_rank_wins = []\n",
    "for thing in percent_worse_ranked_wins:\n",
    "    try:\n",
    "        percent_worse_rank_wins.append(float(thing))\n",
    "    except:\n",
    "        percent_worse_rank_wins.append(0)"
   ]
  },
  {
   "cell_type": "code",
   "execution_count": 68,
   "metadata": {},
   "outputs": [
    {
     "data": {
      "text/plain": [
       "[46.049046321525886,\n",
       " 45.09803921568628,\n",
       " 37.41496598639456,\n",
       " 29.66101694915254,\n",
       " 33.06122448979592,\n",
       " 33.33333333333333,\n",
       " 30.53097345132743,\n",
       " 24.081632653061224,\n",
       " 19.753086419753085,\n",
       " 37.5,\n",
       " 13.125,\n",
       " 0.0,\n",
       " 5.714285714285714,\n",
       " None,\n",
       " 0.7142857142857143]"
      ]
     },
     "execution_count": 68,
     "metadata": {},
     "output_type": "execute_result"
    }
   ],
   "source": [
    "percent_worse_ranked_wins"
   ]
  },
  {
   "cell_type": "code",
   "execution_count": 69,
   "metadata": {
    "scrolled": true
   },
   "outputs": [
    {
     "data": {
      "text/plain": [
       "[46.049046321525886,\n",
       " 45.09803921568628,\n",
       " 37.41496598639456,\n",
       " 29.66101694915254,\n",
       " 33.06122448979592,\n",
       " 33.33333333333333,\n",
       " 30.53097345132743,\n",
       " 24.081632653061224,\n",
       " 19.753086419753085,\n",
       " 37.5,\n",
       " 13.125,\n",
       " 0.0,\n",
       " 5.714285714285714,\n",
       " 0,\n",
       " 0.7142857142857143]"
      ]
     },
     "execution_count": 69,
     "metadata": {},
     "output_type": "execute_result"
    }
   ],
   "source": [
    "percent_worse_rank_wins"
   ]
  },
  {
   "cell_type": "code",
   "execution_count": 76,
   "metadata": {},
   "outputs": [
    {
     "data": {
      "image/png": "[encoded data removed]",
      "text/plain": [
       "<Figure size 432x288 with 1 Axes>"
      ]
     },
     "metadata": {
      "needs_background": "light"
     },
     "output_type": "display_data"
    }
   ],
   "source": [
    "fig, ax = plt.subplots()\n",
    "index = np.arange(n_groups)\n",
    "bar_width = 0.35\n",
    "opacity = 0.8\n",
    "\n",
    "rects1 = plt.bar(index, percent_better_rank_wins, bar_width,\n",
    "alpha=opacity,\n",
    "color='b',\n",
    "label='lower_seed_number')\n",
    "\n",
    "rects2 = plt.bar(index + bar_width, percent_worse_rank_wins, bar_width,\n",
    "alpha=opacity,\n",
    "color='g',\n",
    "label='higher_seed_number')\n",
    "\n",
    "plt.xlabel('point_difference_between_seeds')\n",
    "plt.ylabel('percent_chance_of_winning')\n",
    "plt.xticks(index + bar_width, ('1', '2', '3', '4','5','6','7','8','9','10','11','12','13','14','15'))\n",
    "plt.legend()\n",
    "\n",
    "plt.tight_layout()\n",
    "plt.show()"
   ]
  },
  {
   "cell_type": "code",
   "execution_count": 72,
   "metadata": {},
   "outputs": [
    {
     "data": {
      "text/html": [
       "<div>\n",
       "<style scoped>\n",
       "    .dataframe tbody tr th:only-of-type {\n",
       "        vertical-align: middle;\n",
       "    }\n",
       "\n",
       "    .dataframe tbody tr th {\n",
       "        vertical-align: top;\n",
       "    }\n",
       "\n",
       "    .dataframe thead th {\n",
       "        text-align: right;\n",
       "    }\n",
       "</style>\n",
       "<table border=\"1\" class=\"dataframe\">\n",
       "  <thead>\n",
       "    <tr style=\"text-align: right;\">\n",
       "      <th></th>\n",
       "      <th>first_team</th>\n",
       "      <th>second_team</th>\n",
       "      <th>winner</th>\n",
       "      <th>point_difference</th>\n",
       "      <th>result</th>\n",
       "    </tr>\n",
       "  </thead>\n",
       "  <tbody>\n",
       "    <tr>\n",
       "      <th>0</th>\n",
       "      <td>1</td>\n",
       "      <td>16</td>\n",
       "      <td>1</td>\n",
       "      <td>15</td>\n",
       "      <td>1</td>\n",
       "    </tr>\n",
       "    <tr>\n",
       "      <th>1</th>\n",
       "      <td>8</td>\n",
       "      <td>9</td>\n",
       "      <td>8</td>\n",
       "      <td>1</td>\n",
       "      <td>1</td>\n",
       "    </tr>\n",
       "    <tr>\n",
       "      <th>2</th>\n",
       "      <td>5</td>\n",
       "      <td>12</td>\n",
       "      <td>5</td>\n",
       "      <td>7</td>\n",
       "      <td>1</td>\n",
       "    </tr>\n",
       "    <tr>\n",
       "      <th>3</th>\n",
       "      <td>4</td>\n",
       "      <td>13</td>\n",
       "      <td>4</td>\n",
       "      <td>9</td>\n",
       "      <td>1</td>\n",
       "    </tr>\n",
       "    <tr>\n",
       "      <th>4</th>\n",
       "      <td>6</td>\n",
       "      <td>11</td>\n",
       "      <td>11</td>\n",
       "      <td>5</td>\n",
       "      <td>2</td>\n",
       "    </tr>\n",
       "  </tbody>\n",
       "</table>\n",
       "</div>"
      ],
      "text/plain": [
       "   first_team  second_team  winner  point_difference  result\n",
       "0           1           16       1                15       1\n",
       "1           8            9       8                 1       1\n",
       "2           5           12       5                 7       1\n",
       "3           4           13       4                 9       1\n",
       "4           6           11      11                 5       2"
      ]
     },
     "execution_count": 72,
     "metadata": {},
     "output_type": "execute_result"
    }
   ],
   "source": [
    "df.head()"
   ]
  },
  {
   "cell_type": "markdown",
   "metadata": {},
   "source": [
    "# Splits up round 1 data and all the other data"
   ]
  },
  {
   "cell_type": "code",
   "execution_count": 13,
   "metadata": {},
   "outputs": [],
   "source": [
    "def split_data_up (df,column):\n",
    "    round1 = []\n",
    "    everything_except_1st_round = []\n",
    "    i=0\n",
    "    for thing in list(column):\n",
    "        if i== 62:\n",
    "            everything_except_1st_round.append(thing)\n",
    "            i=0\n",
    "        elif 0<=i<=7 or 15<=i<=22 or 30<=i<=37 or 45<=i<=52:\n",
    "            round1.append(thing)\n",
    "            i+=1\n",
    "        else:\n",
    "            everything_except_1st_round.append(thing)\n",
    "            i+=1\n",
    "    return round1,everything_except_1st_round"
   ]
  },
  {
   "cell_type": "code",
   "execution_count": null,
   "metadata": {},
   "outputs": [],
   "source": []
  },
  {
   "cell_type": "code",
   "execution_count": 14,
   "metadata": {},
   "outputs": [],
   "source": [
    "winner_round1,All_rounds_winner_except_1st_round=split_data_up (df,df['winner'])\n",
    "\n",
    "first_team_round1,All_rounds_first_team_except_1st_round = split_data_up (df,df['first_team'])\n",
    "\n",
    "second_team_round1,All_rounds_second_team_except_1st_round = split_data_up (df,df['second_team'])\n",
    "\n",
    "point_difference_round1,point_difference_all_rounds_except_1st_round = split_data_up (df,df['point_difference'])"
   ]
  },
  {
   "cell_type": "markdown",
   "metadata": {},
   "source": [
    "# Graphs the first rounds data and gives list of percent higher seed wins for each seed difference in a list"
   ]
  },
  {
   "cell_type": "code",
   "execution_count": 78,
   "metadata": {},
   "outputs": [
    {
     "data": {
      "image/png": "[encoded data removed]",
      "text/plain": [
       "<Figure size 432x288 with 1 Axes>"
      ]
     },
     "metadata": {
      "needs_background": "light"
     },
     "output_type": "display_data"
    },
    {
     "data": {
      "text/plain": [
       "[48.57142857142857,\n",
       " None,\n",
       " 60.71428571428571,\n",
       " None,\n",
       " 62.857142857142854,\n",
       " None,\n",
       " 64.28571428571429,\n",
       " None,\n",
       " 79.28571428571428,\n",
       " None,\n",
       " 85.0,\n",
       " None,\n",
       " 94.28571428571428,\n",
       " None,\n",
       " 99.28571428571429]"
      ]
     },
     "execution_count": 78,
     "metadata": {},
     "output_type": "execute_result"
    }
   ],
   "source": [
    "create_graph (first_team_round1, second_team_round1, winner_round1, point_difference_round1)\n",
    "round1_percent_winner_wins=get_percentage_higher_rank_wins (first_team_round1, second_team_round1, winner_round1, point_difference_round1)\n",
    "round1_percent_winner_wins"
   ]
  },
  {
   "cell_type": "markdown",
   "metadata": {},
   "source": [
    "# graphs data from all rounds except 1st round and gives list of percent higher seed wins for each seed difference in a list"
   ]
  },
  {
   "cell_type": "code",
   "execution_count": 73,
   "metadata": {},
   "outputs": [
    {
     "data": {
      "image/png": "[encoded data removed]",
      "text/plain": [
       "<Figure size 432x288 with 1 Axes>"
      ]
     },
     "metadata": {
      "needs_background": "light"
     },
     "output_type": "display_data"
    },
    {
     "data": {
      "text/plain": [
       "[57.268722466960355,\n",
       " 54.90196078431373,\n",
       " 64.28571428571429,\n",
       " 70.33898305084746,\n",
       " 72.38095238095238,\n",
       " 66.66666666666666,\n",
       " 77.90697674418605,\n",
       " 75.91836734693878,\n",
       " 86.36363636363636,\n",
       " 62.5,\n",
       " 100.0,\n",
       " 100.0,\n",
       " None,\n",
       " None,\n",
       " None]"
      ]
     },
     "execution_count": 73,
     "metadata": {},
     "output_type": "execute_result"
    }
   ],
   "source": [
    "create_graph (All_rounds_first_team_except_1st_round,\n",
    "              All_rounds_second_team_except_1st_round, \n",
    "              All_rounds_winner_except_1st_round, \n",
    "              point_difference_all_rounds_except_1st_round)\n",
    "percent_winner_wins_all_rounds_except_1st_round=get_percentage_higher_rank_wins (All_rounds_first_team_except_1st_round,\n",
    "                                                            All_rounds_second_team_except_1st_round, \n",
    "                                                            All_rounds_winner_except_1st_round, \n",
    "                                                            point_difference_all_rounds_except_1st_round)\n",
    "percent_winner_wins_all_rounds_except_1st_round"
   ]
  },
  {
   "cell_type": "markdown",
   "metadata": {},
   "source": [
    "# Splits up data by round"
   ]
  },
  {
   "cell_type": "code",
   "execution_count": 15,
   "metadata": {},
   "outputs": [],
   "source": [
    "def split_all_data_up (df,column):\n",
    "    round1 = []\n",
    "    round2 = []\n",
    "    round3 = []\n",
    "    round4 = []\n",
    "    final_four_first_round = []\n",
    "    final_four_last_round = []\n",
    "    i=0\n",
    "    for thing in list(column):\n",
    "        if i== 62:\n",
    "            final_four_last_round.append(thing)\n",
    "            i=0\n",
    "        elif 0<=i<=7 or 15<=i<=22 or 30<=i<=37 or 45<=i<=52:\n",
    "            round1.append(thing)\n",
    "            i+=1\n",
    "        elif 8<=i<=11 or 23<=i<=26 or 38<=i<=41 or 53<=i<=56:\n",
    "            round2.append(thing)\n",
    "            i+=1\n",
    "        elif 12<=i<=13 or 27<=i<=28 or 42<=i<=43 or 57<=i<=58:\n",
    "            round3.append(thing)\n",
    "            i+=1\n",
    "        elif i==14 or i==29 or i==44 or i==59:\n",
    "            round4.append(thing)\n",
    "            i+=1\n",
    "        elif i == 60 or i == 61:\n",
    "            final_four_first_round.append(thing)\n",
    "            i+=1\n",
    "    return round1,round2,round3,round4,final_four_first_round,final_four_last_round\n",
    "\n"
   ]
  },
  {
   "cell_type": "code",
   "execution_count": 16,
   "metadata": {},
   "outputs": [],
   "source": [
    "winner_round1,winner_round2,winner_round3,winner_round4,winner_final_four_first_round,winner_final_four_last_round=split_all_data_up (df,df['winner'])\n",
    "\n",
    "first_team_round1,first_team_round2,first_team_round3,first_team_round4,first_team_final_four_first_round,first_team_final_four_last_round = split_all_data_up (df,df['first_team'])\n",
    "\n",
    "second_team_round1,second_team_round2,second_team_round3,second_team_round4,second_team_final_four_first_round,second_team_final_four_last_round = split_all_data_up (df,df['second_team'])\n",
    "\n",
    "point_difference_round1,point_difference_round2,point_difference_round3,point_difference_round4,point_difference_final_four_first_round,point_difference_final_four_last_round = split_all_data_up (df,df['point_difference'])"
   ]
  },
  {
   "cell_type": "markdown",
   "metadata": {},
   "source": [
    "# Exploratory data analysis"
   ]
  },
  {
   "cell_type": "code",
   "execution_count": 17,
   "metadata": {},
   "outputs": [
    {
     "data": {
      "image/png": "[encoded data removed]",
      "text/plain": [
       "<Figure size 432x288 with 1 Axes>"
      ]
     },
     "metadata": {
      "needs_background": "light"
     },
     "output_type": "display_data"
    },
    {
     "data": {
      "text/plain": [
       "[48.57142857142857,\n",
       " None,\n",
       " 60.71428571428571,\n",
       " None,\n",
       " 62.857142857142854,\n",
       " None,\n",
       " 64.28571428571429,\n",
       " None,\n",
       " 79.28571428571428,\n",
       " None,\n",
       " 85.0,\n",
       " None,\n",
       " 94.28571428571428,\n",
       " None,\n",
       " 99.28571428571429]"
      ]
     },
     "execution_count": 17,
     "metadata": {},
     "output_type": "execute_result"
    }
   ],
   "source": [
    "create_graph (first_team_round1,\n",
    "              second_team_round1, \n",
    "              winner_round1, \n",
    "              point_difference_round1)\n",
    "percentages_first_round=get_percentage_higher_rank_wins (first_team_round1,second_team_round1, winner_round1, point_difference_round1)\n",
    "percentages_first_round"
   ]
  },
  {
   "cell_type": "code",
   "execution_count": 28,
   "metadata": {},
   "outputs": [
    {
     "data": {
      "image/png": "[encoded data removed]",
      "text/plain": [
       "<Figure size 432x288 with 1 Axes>"
      ]
     },
     "metadata": {
      "needs_background": "light"
     },
     "output_type": "display_data"
    },
    {
     "data": {
      "text/plain": [
       "[57.647058823529406,\n",
       " None,\n",
       " 63.63636363636363,\n",
       " None,\n",
       " 71.26436781609196,\n",
       " None,\n",
       " 81.15942028985508,\n",
       " 75.6198347107438,\n",
       " None,\n",
       " None,\n",
       " None,\n",
       " None,\n",
       " None,\n",
       " None,\n",
       " None]"
      ]
     },
     "execution_count": 28,
     "metadata": {},
     "output_type": "execute_result"
    }
   ],
   "source": [
    "create_graph (first_team_round2,\n",
    "              second_team_round2, \n",
    "              winner_round2, \n",
    "              point_difference_round2)\n",
    "percentages_second_round=get_percentage_higher_rank_wins (first_team_round2,second_team_round2, winner_round2, point_difference_round2)\n",
    "percentages_second_round"
   ]
  },
  {
   "cell_type": "code",
   "execution_count": 18,
   "metadata": {},
   "outputs": [
    {
     "data": {
      "image/png": "[encoded data removed]",
      "text/plain": [
       "<Figure size 432x288 with 1 Axes>"
      ]
     },
     "metadata": {
      "needs_background": "light"
     },
     "output_type": "display_data"
    },
    {
     "data": {
      "text/plain": [
       "[60.0,\n",
       " None,\n",
       " 69.64285714285714,\n",
       " 69.36936936936937,\n",
       " 75.0,\n",
       " None,\n",
       " 71.42857142857143,\n",
       " None,\n",
       " 86.66666666666667,\n",
       " None,\n",
       " 100.0,\n",
       " 100.0,\n",
       " None,\n",
       " None,\n",
       " None]"
      ]
     },
     "execution_count": 18,
     "metadata": {},
     "output_type": "execute_result"
    }
   ],
   "source": [
    "create_graph (first_team_round3,\n",
    "              second_team_round3, \n",
    "              winner_round3, \n",
    "              point_difference_round3)\n",
    "percentages_third_round=get_percentage_higher_rank_wins (first_team_round3,second_team_round3, winner_round3, point_difference_round3)\n",
    "percentages_third_round"
   ]
  },
  {
   "cell_type": "code",
   "execution_count": 19,
   "metadata": {},
   "outputs": [
    {
     "data": {
      "image/png": "[encoded data removed]",
      "text/plain": [
       "<Figure size 432x288 with 1 Axes>"
      ]
     },
     "metadata": {
      "needs_background": "light"
     },
     "output_type": "display_data"
    },
    {
     "data": {
      "text/plain": [
       "[48.148148148148145,\n",
       " 53.84615384615385,\n",
       " 22.22222222222222,\n",
       " None,\n",
       " 81.81818181818183,\n",
       " 76.92307692307693,\n",
       " 0.0,\n",
       " None,\n",
       " 80.0,\n",
       " 62.5,\n",
       " None,\n",
       " None,\n",
       " None,\n",
       " None,\n",
       " None]"
      ]
     },
     "execution_count": 19,
     "metadata": {},
     "output_type": "execute_result"
    }
   ],
   "source": [
    "create_graph (first_team_round4,\n",
    "              second_team_round4, \n",
    "              winner_round4, \n",
    "              point_difference_round4)\n",
    "percentages_fourth_round=get_percentage_higher_rank_wins (first_team_round4,second_team_round4, winner_round4, point_difference_round4)\n",
    "percentages_fourth_round"
   ]
  },
  {
   "cell_type": "code",
   "execution_count": 79,
   "metadata": {},
   "outputs": [
    {
     "data": {
      "image/png": "[encoded data removed]",
      "text/plain": [
       "<Figure size 432x288 with 1 Axes>"
      ]
     },
     "metadata": {
      "needs_background": "light"
     },
     "output_type": "display_data"
    },
    {
     "data": {
      "text/plain": [
       "[63.1578947368421,\n",
       " 44.44444444444444,\n",
       " 77.77777777777779,\n",
       " 75.0,\n",
       " None,\n",
       " 40.0,\n",
       " 100.0,\n",
       " 100.0,\n",
       " 100.0,\n",
       " None,\n",
       " None,\n",
       " None,\n",
       " None,\n",
       " None,\n",
       " None]"
      ]
     },
     "execution_count": 79,
     "metadata": {},
     "output_type": "execute_result"
    }
   ],
   "source": [
    "create_graph (first_team_final_four_first_round,\n",
    "              second_team_final_four_first_round, \n",
    "              winner_final_four_first_round, \n",
    "              point_difference_final_four_first_round)\n",
    "percentages_final_four_first_round=get_percentage_higher_rank_wins (first_team_final_four_first_round,second_team_final_four_first_round, winner_final_four_first_round, point_difference_final_four_first_round)\n",
    "percentages_final_four_first_round"
   ]
  },
  {
   "cell_type": "code",
   "execution_count": 80,
   "metadata": {},
   "outputs": [
    {
     "data": {
      "image/png": "[encoded data removed]",
      "text/plain": [
       "<Figure size 432x288 with 1 Axes>"
      ]
     },
     "metadata": {
      "needs_background": "light"
     },
     "output_type": "display_data"
    },
    {
     "data": {
      "text/plain": [
       "[71.42857142857143,\n",
       " 100.0,\n",
       " 66.66666666666666,\n",
       " 100.0,\n",
       " 66.66666666666666,\n",
       " None,\n",
       " 0.0,\n",
       " None,\n",
       " None,\n",
       " None,\n",
       " None,\n",
       " None,\n",
       " None,\n",
       " None,\n",
       " None]"
      ]
     },
     "execution_count": 80,
     "metadata": {},
     "output_type": "execute_result"
    }
   ],
   "source": [
    "create_graph (first_team_final_four_last_round,\n",
    "              second_team_final_four_last_round, \n",
    "              winner_final_four_last_round, \n",
    "              point_difference_final_four_last_round)\n",
    "percentages_final_four_last_round=get_percentage_higher_rank_wins (first_team_final_four_last_round,second_team_final_four_last_round, winner_final_four_last_round, point_difference_final_four_last_round)\n",
    "percentages_final_four_last_round"
   ]
  },
  {
   "cell_type": "markdown",
   "metadata": {},
   "source": [
    "# Making graphs"
   ]
  },
  {
   "cell_type": "code",
   "execution_count": 46,
   "metadata": {},
   "outputs": [
    {
     "data": {
      "image/png": "[encoded data removed]",
      "text/plain": [
       "<Figure size 432x288 with 1 Axes>"
      ]
     },
     "metadata": {
      "needs_background": "light"
     },
     "output_type": "display_data"
    }
   ],
   "source": [
    "import numpy as np\n",
    "import matplotlib.pyplot as plt\n",
    "\n",
    "x = np.arange(1,16)\n",
    "series1 = np.array(percentages_first_round).astype(np.double)\n",
    "s1mask = np.isfinite(series1)\n",
    "\n",
    "series2 = np.array(percentages_second_round).astype(np.double)\n",
    "s2mask = np.isfinite(series2)\n",
    "\n",
    "series3 = np.array(percentages_third_round).astype(np.double)\n",
    "s3mask = np.isfinite(series3)\n",
    "\n",
    "series4 = np.array(percentages_fourth_round).astype(np.double)\n",
    "s4mask = np.isfinite(series4)\n",
    "\n",
    "series5 = np.array(percentages_final_four_first_round).astype(np.double)\n",
    "s5mask = np.isfinite(series5)\n",
    "\n",
    "series6 = np.array(percentages_final_four_last_round).astype(np.double)\n",
    "s6mask = np.isfinite(series6)\n",
    "\n",
    "round1=plt.plot(x[s1mask], series1[s1mask], linestyle='-', marker='o', label = 'round1')\n",
    "round2=plt.plot(x[s2mask], series2[s2mask], linestyle='-', marker='o', label = 'round2')\n",
    "round3=plt.plot(x[s3mask], series3[s3mask], linestyle='-', marker='o', label = 'round3')\n",
    "round4=plt.plot(x[s4mask], series4[s4mask], linestyle='-', marker='o', label = 'round4')\n",
    "FF_round_1=plt.plot(x[s5mask], series2[s5mask], linestyle='-', marker='o', label = 'FF_round_1')\n",
    "FF_final_round=plt.plot(x[s6mask], series6[s6mask], linestyle='-', marker='o', label = 'FF_final_round')\n",
    "\n",
    "plt.legend(loc=\"lower right\")\n",
    "\n",
    "\n",
    "plt.show()"
   ]
  },
  {
   "cell_type": "code",
   "execution_count": 47,
   "metadata": {},
   "outputs": [
    {
     "data": {
      "image/png": "[encoded data removed]",
      "text/plain": [
       "<Figure size 432x288 with 1 Axes>"
      ]
     },
     "metadata": {
      "needs_background": "light"
     },
     "output_type": "display_data"
    }
   ],
   "source": [
    "import numpy as np\n",
    "import matplotlib.pyplot as plt\n",
    "\n",
    "x = np.arange(1,16)\n",
    "series1 = np.array(percentages_first_round).astype(np.double)\n",
    "s1mask = np.isfinite(series1)\n",
    "\n",
    "series2 = np.array(percentages_second_round).astype(np.double)\n",
    "s2mask = np.isfinite(series2)\n",
    "\n",
    "series3 = np.array(percentages_third_round).astype(np.double)\n",
    "s3mask = np.isfinite(series3)\n",
    "\n",
    "series4 = np.array(percentages_fourth_round).astype(np.double)\n",
    "s4mask = np.isfinite(series4)\n",
    "\n",
    "round1=plt.plot(x[s1mask], series1[s1mask], linestyle='-', marker='o', label = 'round1')\n",
    "round2=plt.plot(x[s2mask], series2[s2mask], linestyle='-', marker='o', label = 'round2')\n",
    "round3=plt.plot(x[s3mask], series3[s3mask], linestyle='-', marker='o', label = 'round3')\n",
    "round4=plt.plot(x[s4mask], series4[s4mask], linestyle='-', marker='o', label = 'round4')\n",
    "\n",
    "plt.legend(loc=\"lower right\")\n",
    "\n",
    "\n",
    "plt.show()\n"
   ]
  },
  {
   "cell_type": "code",
   "execution_count": 48,
   "metadata": {},
   "outputs": [
    {
     "data": {
      "image/png": "[encoded data removed]",
      "text/plain": [
       "<Figure size 432x288 with 1 Axes>"
      ]
     },
     "metadata": {
      "needs_background": "light"
     },
     "output_type": "display_data"
    }
   ],
   "source": [
    "import numpy as np\n",
    "import matplotlib.pyplot as plt\n",
    "\n",
    "x = np.arange(1,16)\n",
    "series1 = np.array(percentages_first_round).astype(np.double)\n",
    "s1mask = np.isfinite(series1)\n",
    "\n",
    "series2 = np.array(percentages_second_round).astype(np.double)\n",
    "s2mask = np.isfinite(series2)\n",
    "\n",
    "series3 = np.array(percentages_third_round).astype(np.double)\n",
    "s3mask = np.isfinite(series3)\n",
    "\n",
    "\n",
    "series5 = np.array(percentages_final_four_first_round).astype(np.double)\n",
    "s5mask = np.isfinite(series5)\n",
    "\n",
    "\n",
    "round1=plt.plot(x[s1mask], series1[s1mask], linestyle='-', marker='o', label = 'round1')\n",
    "round2=plt.plot(x[s2mask], series2[s2mask], linestyle='-', marker='o', label = 'round2')\n",
    "round3=plt.plot(x[s3mask], series3[s3mask], linestyle='-', marker='o', label = 'round3')\n",
    "FF_round_1=plt.plot(x[s5mask], series2[s5mask], linestyle='-', marker='o', label = 'FF_round_1')\n",
    "\n",
    "plt.legend(loc=\"lower right\")\n",
    "\n",
    "\n",
    "plt.show()"
   ]
  },
  {
   "cell_type": "code",
   "execution_count": null,
   "metadata": {},
   "outputs": [],
   "source": [
    "import numpy as np\n",
    "import matplotlib.pyplot as plt\n",
    "\n",
    "x = np.arange(1,16)\n",
    "series1 = np.array(percentages_first_round).astype(np.double)\n",
    "s1mask = np.isfinite(series1)\n",
    "\n",
    "series2 = np.array(percentages_second_round).astype(np.double)\n",
    "s2mask = np.isfinite(series2)\n",
    "\n",
    "series3 = np.array(percentages_third_round).astype(np.double)\n",
    "s3mask = np.isfinite(series3)\n",
    "\n",
    "\n",
    "series5 = np.array(percentages_final_four_first_round).astype(np.double)\n",
    "s5mask = np.isfinite(series5)\n",
    "\n",
    "\n",
    "round1=plt.plot(x[s1mask], series1[s1mask], linestyle='-', marker='o', label = 'round1')\n",
    "round2=plt.plot(x[s2mask], series2[s2mask], linestyle='-', marker='o', label = 'round2')\n",
    "round3=plt.plot(x[s3mask], series3[s3mask], linestyle='-', marker='o', label = 'round3')\n",
    "FF_round_1=plt.plot(x[s5mask], series2[s5mask], linestyle='-', marker='o', label = 'FF_round_1')\n",
    "\n",
    "plt.legend(loc=\"lower right\")\n",
    "\n",
    "\n",
    "plt.show()"
   ]
  },
  {
   "cell_type": "code",
   "execution_count": null,
   "metadata": {},
   "outputs": [],
   "source": [
    "#predicting march madness game winners based on seed differences"
   ]
  }
 ],
 "metadata": {
  "kernelspec": {
   "display_name": "Python 3",
   "language": "python",
   "name": "python3"
  },
  "language_info": {
   "codemirror_mode": {
    "name": "ipython",
    "version": 3
   },
   "file_extension": ".py",
   "mimetype": "text/x-python",
   "name": "python",
   "nbconvert_exporter": "python",
   "pygments_lexer": "ipython3",
   "version": "3.7.1"
  }
 },
 "nbformat": 4,
 "nbformat_minor": 2
}

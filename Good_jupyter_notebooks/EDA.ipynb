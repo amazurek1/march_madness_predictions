{
 "cells": [
  {
   "cell_type": "code",
   "execution_count": 269,
   "metadata": {},
   "outputs": [],
   "source": [
    "import pandas as pd"
   ]
  },
  {
   "cell_type": "code",
   "execution_count": 374,
   "metadata": {},
   "outputs": [],
   "source": [
    "df = pd.read_csv('all_data_not_advanced.csv', sep=',')"
   ]
  },
  {
   "cell_type": "code",
   "execution_count": 375,
   "metadata": {},
   "outputs": [],
   "source": [
    "df.drop(['Unnamed: 0'], axis=1, inplace = True)"
   ]
  },
  {
   "cell_type": "code",
   "execution_count": 317,
   "metadata": {},
   "outputs": [],
   "source": [
    "pd.set_option('display.max_columns', 200)\n",
    "#df1 = df.drop(['Name','name','result','index','year_x','year_y','winner'], axis=1)\n",
    "df1 = df.drop(['name','index','year_x','winner'], axis=1)"
   ]
  },
  {
   "cell_type": "code",
   "execution_count": 318,
   "metadata": {},
   "outputs": [],
   "source": [
    "pd.set_option('display.max_row', 200)\n"
   ]
  },
  {
   "cell_type": "code",
   "execution_count": 319,
   "metadata": {},
   "outputs": [],
   "source": [
    "df1 = df1.drop(['Name','year_y','result'], axis=1)"
   ]
  },
  {
   "cell_type": "code",
   "execution_count": 320,
   "metadata": {},
   "outputs": [],
   "source": [
    "blah=split_all_data_up (df,df1['point_difference'])\n",
    "df1['round']=blah\n",
    "df1=df1[(df1['round']==2)]"
   ]
  },
  {
   "cell_type": "code",
   "execution_count": 321,
   "metadata": {},
   "outputs": [],
   "source": [
    "df1=df1[(df1['team_seed']== 1) | (df1['team_seed']== 8)]"
   ]
  },
  {
   "cell_type": "code",
   "execution_count": 378,
   "metadata": {
    "collapsed": true
   },
   "outputs": [
    {
     "ename": "KeyError",
     "evalue": "\"['round' 'name' 'index' 'year_x' 'winner'] not found in axis\"",
     "output_type": "error",
     "traceback": [
      "\u001b[0;31m---------------------------------------------------------------------------\u001b[0m",
      "\u001b[0;31mKeyError\u001b[0m                                  Traceback (most recent call last)",
      "\u001b[0;32m<ipython-input-378-052a2ae45bab>\u001b[0m in \u001b[0;36m<module>\u001b[0;34m\u001b[0m\n\u001b[0;32m----> 1\u001b[0;31m \u001b[0mdf1\u001b[0m \u001b[0;34m=\u001b[0m \u001b[0mdf1\u001b[0m\u001b[0;34m.\u001b[0m\u001b[0mdrop\u001b[0m\u001b[0;34m(\u001b[0m\u001b[0;34m[\u001b[0m\u001b[0;34m'round'\u001b[0m\u001b[0;34m,\u001b[0m\u001b[0;34m'name'\u001b[0m\u001b[0;34m,\u001b[0m\u001b[0;34m'index'\u001b[0m\u001b[0;34m,\u001b[0m\u001b[0;34m'year_x'\u001b[0m\u001b[0;34m,\u001b[0m\u001b[0;34m'winner'\u001b[0m\u001b[0;34m]\u001b[0m\u001b[0;34m,\u001b[0m \u001b[0maxis\u001b[0m \u001b[0;34m=\u001b[0m \u001b[0;36m1\u001b[0m\u001b[0;34m)\u001b[0m\u001b[0;34m\u001b[0m\u001b[0;34m\u001b[0m\u001b[0m\n\u001b[0m",
      "\u001b[0;32m/anaconda3/lib/python3.7/site-packages/pandas/core/frame.py\u001b[0m in \u001b[0;36mdrop\u001b[0;34m(self, labels, axis, index, columns, level, inplace, errors)\u001b[0m\n\u001b[1;32m   3695\u001b[0m                                            \u001b[0mindex\u001b[0m\u001b[0;34m=\u001b[0m\u001b[0mindex\u001b[0m\u001b[0;34m,\u001b[0m \u001b[0mcolumns\u001b[0m\u001b[0;34m=\u001b[0m\u001b[0mcolumns\u001b[0m\u001b[0;34m,\u001b[0m\u001b[0;34m\u001b[0m\u001b[0;34m\u001b[0m\u001b[0m\n\u001b[1;32m   3696\u001b[0m                                            \u001b[0mlevel\u001b[0m\u001b[0;34m=\u001b[0m\u001b[0mlevel\u001b[0m\u001b[0;34m,\u001b[0m \u001b[0minplace\u001b[0m\u001b[0;34m=\u001b[0m\u001b[0minplace\u001b[0m\u001b[0;34m,\u001b[0m\u001b[0;34m\u001b[0m\u001b[0;34m\u001b[0m\u001b[0m\n\u001b[0;32m-> 3697\u001b[0;31m                                            errors=errors)\n\u001b[0m\u001b[1;32m   3698\u001b[0m \u001b[0;34m\u001b[0m\u001b[0m\n\u001b[1;32m   3699\u001b[0m     @rewrite_axis_style_signature('mapper', [('copy', True),\n",
      "\u001b[0;32m/anaconda3/lib/python3.7/site-packages/pandas/core/generic.py\u001b[0m in \u001b[0;36mdrop\u001b[0;34m(self, labels, axis, index, columns, level, inplace, errors)\u001b[0m\n\u001b[1;32m   3109\u001b[0m         \u001b[0;32mfor\u001b[0m \u001b[0maxis\u001b[0m\u001b[0;34m,\u001b[0m \u001b[0mlabels\u001b[0m \u001b[0;32min\u001b[0m \u001b[0maxes\u001b[0m\u001b[0;34m.\u001b[0m\u001b[0mitems\u001b[0m\u001b[0;34m(\u001b[0m\u001b[0;34m)\u001b[0m\u001b[0;34m:\u001b[0m\u001b[0;34m\u001b[0m\u001b[0;34m\u001b[0m\u001b[0m\n\u001b[1;32m   3110\u001b[0m             \u001b[0;32mif\u001b[0m \u001b[0mlabels\u001b[0m \u001b[0;32mis\u001b[0m \u001b[0;32mnot\u001b[0m \u001b[0;32mNone\u001b[0m\u001b[0;34m:\u001b[0m\u001b[0;34m\u001b[0m\u001b[0;34m\u001b[0m\u001b[0m\n\u001b[0;32m-> 3111\u001b[0;31m                 \u001b[0mobj\u001b[0m \u001b[0;34m=\u001b[0m \u001b[0mobj\u001b[0m\u001b[0;34m.\u001b[0m\u001b[0m_drop_axis\u001b[0m\u001b[0;34m(\u001b[0m\u001b[0mlabels\u001b[0m\u001b[0;34m,\u001b[0m \u001b[0maxis\u001b[0m\u001b[0;34m,\u001b[0m \u001b[0mlevel\u001b[0m\u001b[0;34m=\u001b[0m\u001b[0mlevel\u001b[0m\u001b[0;34m,\u001b[0m \u001b[0merrors\u001b[0m\u001b[0;34m=\u001b[0m\u001b[0merrors\u001b[0m\u001b[0;34m)\u001b[0m\u001b[0;34m\u001b[0m\u001b[0;34m\u001b[0m\u001b[0m\n\u001b[0m\u001b[1;32m   3112\u001b[0m \u001b[0;34m\u001b[0m\u001b[0m\n\u001b[1;32m   3113\u001b[0m         \u001b[0;32mif\u001b[0m \u001b[0minplace\u001b[0m\u001b[0;34m:\u001b[0m\u001b[0;34m\u001b[0m\u001b[0;34m\u001b[0m\u001b[0m\n",
      "\u001b[0;32m/anaconda3/lib/python3.7/site-packages/pandas/core/generic.py\u001b[0m in \u001b[0;36m_drop_axis\u001b[0;34m(self, labels, axis, level, errors)\u001b[0m\n\u001b[1;32m   3141\u001b[0m                 \u001b[0mnew_axis\u001b[0m \u001b[0;34m=\u001b[0m \u001b[0maxis\u001b[0m\u001b[0;34m.\u001b[0m\u001b[0mdrop\u001b[0m\u001b[0;34m(\u001b[0m\u001b[0mlabels\u001b[0m\u001b[0;34m,\u001b[0m \u001b[0mlevel\u001b[0m\u001b[0;34m=\u001b[0m\u001b[0mlevel\u001b[0m\u001b[0;34m,\u001b[0m \u001b[0merrors\u001b[0m\u001b[0;34m=\u001b[0m\u001b[0merrors\u001b[0m\u001b[0;34m)\u001b[0m\u001b[0;34m\u001b[0m\u001b[0;34m\u001b[0m\u001b[0m\n\u001b[1;32m   3142\u001b[0m             \u001b[0;32melse\u001b[0m\u001b[0;34m:\u001b[0m\u001b[0;34m\u001b[0m\u001b[0;34m\u001b[0m\u001b[0m\n\u001b[0;32m-> 3143\u001b[0;31m                 \u001b[0mnew_axis\u001b[0m \u001b[0;34m=\u001b[0m \u001b[0maxis\u001b[0m\u001b[0;34m.\u001b[0m\u001b[0mdrop\u001b[0m\u001b[0;34m(\u001b[0m\u001b[0mlabels\u001b[0m\u001b[0;34m,\u001b[0m \u001b[0merrors\u001b[0m\u001b[0;34m=\u001b[0m\u001b[0merrors\u001b[0m\u001b[0;34m)\u001b[0m\u001b[0;34m\u001b[0m\u001b[0;34m\u001b[0m\u001b[0m\n\u001b[0m\u001b[1;32m   3144\u001b[0m             \u001b[0mresult\u001b[0m \u001b[0;34m=\u001b[0m \u001b[0mself\u001b[0m\u001b[0;34m.\u001b[0m\u001b[0mreindex\u001b[0m\u001b[0;34m(\u001b[0m\u001b[0;34m**\u001b[0m\u001b[0;34m{\u001b[0m\u001b[0maxis_name\u001b[0m\u001b[0;34m:\u001b[0m \u001b[0mnew_axis\u001b[0m\u001b[0;34m}\u001b[0m\u001b[0;34m)\u001b[0m\u001b[0;34m\u001b[0m\u001b[0;34m\u001b[0m\u001b[0m\n\u001b[1;32m   3145\u001b[0m \u001b[0;34m\u001b[0m\u001b[0m\n",
      "\u001b[0;32m/anaconda3/lib/python3.7/site-packages/pandas/core/indexes/base.py\u001b[0m in \u001b[0;36mdrop\u001b[0;34m(self, labels, errors)\u001b[0m\n\u001b[1;32m   4402\u001b[0m             \u001b[0;32mif\u001b[0m \u001b[0merrors\u001b[0m \u001b[0;34m!=\u001b[0m \u001b[0;34m'ignore'\u001b[0m\u001b[0;34m:\u001b[0m\u001b[0;34m\u001b[0m\u001b[0;34m\u001b[0m\u001b[0m\n\u001b[1;32m   4403\u001b[0m                 raise KeyError(\n\u001b[0;32m-> 4404\u001b[0;31m                     '{} not found in axis'.format(labels[mask]))\n\u001b[0m\u001b[1;32m   4405\u001b[0m             \u001b[0mindexer\u001b[0m \u001b[0;34m=\u001b[0m \u001b[0mindexer\u001b[0m\u001b[0;34m[\u001b[0m\u001b[0;34m~\u001b[0m\u001b[0mmask\u001b[0m\u001b[0;34m]\u001b[0m\u001b[0;34m\u001b[0m\u001b[0;34m\u001b[0m\u001b[0m\n\u001b[1;32m   4406\u001b[0m         \u001b[0;32mreturn\u001b[0m \u001b[0mself\u001b[0m\u001b[0;34m.\u001b[0m\u001b[0mdelete\u001b[0m\u001b[0;34m(\u001b[0m\u001b[0mindexer\u001b[0m\u001b[0;34m)\u001b[0m\u001b[0;34m\u001b[0m\u001b[0;34m\u001b[0m\u001b[0m\n",
      "\u001b[0;31mKeyError\u001b[0m: \"['round' 'name' 'index' 'year_x' 'winner'] not found in axis\""
     ]
    }
   ],
   "source": [
    "df1 = df1.drop(['round'], axis = 1)"
   ]
  },
  {
   "cell_type": "code",
   "execution_count": 302,
   "metadata": {},
   "outputs": [
    {
     "data": {
      "text/plain": [
       "array([15,  1,  7,  3,  8,  4,  6, 11,  2,  0,  5, 10,  9, 12])"
      ]
     },
     "execution_count": 302,
     "metadata": {},
     "output_type": "execute_result"
    }
   ],
   "source": [
    "df1['point_difference'].unique()"
   ]
  },
  {
   "cell_type": "markdown",
   "metadata": {},
   "source": [
    "# Gets the opponent data"
   ]
  },
  {
   "cell_type": "code",
   "execution_count": 472,
   "metadata": {},
   "outputs": [],
   "source": [
    "#pass through the dataframe you want to add to and the column name\n",
    "#it will create a new column with the columnname_opponent\n",
    "def get_opponent_data (df, column_name):\n",
    "    first_data = []\n",
    "    second_data = []\n",
    "    i=0\n",
    "    x = 0\n",
    "    for thing in df[f'{column_name}']:\n",
    "        if i ==0:\n",
    "            first_data.append(df[f'{column_name}'].iloc[x+1])\n",
    "            i+=1\n",
    "            x+=1\n",
    "        elif i==1:\n",
    "            second_data.append(df[f'{column_name}'].iloc[x-1])\n",
    "            i=0\n",
    "            x+=1\n",
    "    \n",
    "    i=0\n",
    "    x=0\n",
    "    opponent_data = []\n",
    "    for thing in first_data+second_data:\n",
    "        if i==0:\n",
    "            opponent_data.append(first_data[x])\n",
    "            i+=1\n",
    "        elif i==1:\n",
    "            opponent_data.append(second_data[x])\n",
    "            x+=1\n",
    "            i=0\n",
    "    print('made it here')        \n",
    "    df[f'{column_name}'+'_opponent']=opponent_data\n"
   ]
  },
  {
   "cell_type": "code",
   "execution_count": 470,
   "metadata": {},
   "outputs": [
    {
     "name": "stdout",
     "output_type": "stream",
     "text": [
      "made it here\n"
     ]
    }
   ],
   "source": [
    "get_opponent_data (df1, 'PTS')"
   ]
  },
  {
   "cell_type": "markdown",
   "metadata": {},
   "source": [
    "# Decision Tree"
   ]
  },
  {
   "cell_type": "code",
   "execution_count": 323,
   "metadata": {},
   "outputs": [],
   "source": [
    "X = df1.drop('win',axis=1)\n",
    "#could have also done answers1.set_index('SEQN') instead of dropping\n",
    "y = df1['win']"
   ]
  },
  {
   "cell_type": "code",
   "execution_count": 293,
   "metadata": {},
   "outputs": [],
   "source": [
    "from collections import Counter\n",
    "from imblearn.over_sampling import SMOTE\n",
    "from sklearn.model_selection import train_test_split\n"
   ]
  },
  {
   "cell_type": "code",
   "execution_count": 390,
   "metadata": {},
   "outputs": [],
   "source": [
    "X_train, X_test, y_train, y_test = train_test_split(X, y, test_size=0.30, random_state = 123)\n"
   ]
  },
  {
   "cell_type": "code",
   "execution_count": 325,
   "metadata": {},
   "outputs": [
    {
     "data": {
      "text/plain": [
       "DecisionTreeClassifier(ccp_alpha=0.0, class_weight=None, criterion='gini',\n",
       "                       max_depth=None, max_features=None, max_leaf_nodes=None,\n",
       "                       min_impurity_decrease=0.0, min_impurity_split=None,\n",
       "                       min_samples_leaf=1, min_samples_split=2,\n",
       "                       min_weight_fraction_leaf=0.0, presort='deprecated',\n",
       "                       random_state=None, splitter='best')"
      ]
     },
     "execution_count": 325,
     "metadata": {},
     "output_type": "execute_result"
    }
   ],
   "source": [
    "from sklearn.tree import DecisionTreeClassifier\n",
    "dtree = DecisionTreeClassifier()\n",
    "dtree.fit(X_train,y_train)\n"
   ]
  },
  {
   "cell_type": "code",
   "execution_count": 326,
   "metadata": {},
   "outputs": [],
   "source": [
    "predictions = dtree.predict(X_test)\n"
   ]
  },
  {
   "cell_type": "code",
   "execution_count": null,
   "metadata": {},
   "outputs": [],
   "source": []
  },
  {
   "cell_type": "raw",
   "metadata": {},
   "source": [
    "from sklearn.metrics import classification_report,confusion_matrix\n"
   ]
  },
  {
   "cell_type": "code",
   "execution_count": 327,
   "metadata": {},
   "outputs": [
    {
     "name": "stdout",
     "output_type": "stream",
     "text": [
      "              precision    recall  f1-score   support\n",
      "\n",
      "           0       0.82      0.82      0.82        22\n",
      "           1       0.90      0.90      0.90        41\n",
      "\n",
      "    accuracy                           0.87        63\n",
      "   macro avg       0.86      0.86      0.86        63\n",
      "weighted avg       0.87      0.87      0.87        63\n",
      "\n"
     ]
    }
   ],
   "source": [
    "print(classification_report(y_test,predictions))\n"
   ]
  },
  {
   "cell_type": "code",
   "execution_count": 298,
   "metadata": {},
   "outputs": [
    {
     "data": {
      "text/plain": [
       "0.7217741935483871"
      ]
     },
     "execution_count": 298,
     "metadata": {},
     "output_type": "execute_result"
    }
   ],
   "source": [
    "from sklearn import metrics\n",
    "metrics.accuracy_score(y_test, predictions)\n"
   ]
  },
  {
   "cell_type": "code",
   "execution_count": 384,
   "metadata": {},
   "outputs": [
    {
     "data": {
      "text/plain": [
       "20"
      ]
     },
     "execution_count": 384,
     "metadata": {},
     "output_type": "execute_result"
    }
   ],
   "source": [
    "\n",
    "from IPython.display import Image  \n",
    "from sklearn.externals.six import StringIO  \n",
    "from sklearn.tree import export_graphviz\n",
    "import pydot \n",
    "\n",
    "features = list(X_train.columns)\n",
    "len(features)"
   ]
  },
  {
   "cell_type": "code",
   "execution_count": 434,
   "metadata": {},
   "outputs": [],
   "source": [
    "#function for accuracy in decision tree\n",
    "def get_predictions (point_diff):\n",
    "    df = pd.read_csv('all_data_not_advanced.csv', sep=',')\n",
    "    df.drop(['Unnamed: 0'], axis=1, inplace = True)\n",
    "    pd.set_option('display.max_columns', 200)\n",
    "    #df1 = df.drop(['Name','name','result','index','year_x','year_y','winner'], axis=1)\n",
    "    df1 = df.drop(['name','index','year_x','winner'], axis=1)\n",
    "    #pd.set_option('display.max_row', 200)\n",
    "    df1 = df1.drop(['Name','year_y','result'], axis=1)\n",
    "    blah=split_all_data_up (df,df1['point_difference'])\n",
    "    df1['round']=blah\n",
    "    #unhashtag this if you want the ESPN stuff also\n",
    "    #df1=df1[['point_difference','team_seed','win','higher_or_lower_seed','other_team_seed','round']]\n",
    "    #unhashtag the row below if you want to look at a specific round\n",
    "    #df1=df1[(df1['round']==4)]\n",
    "    df1=df1[(df1['point_difference']== point_diff)]\n",
    "    #df1 = df1.drop(['round'], axis = 1)\n",
    "    X = df1.drop('win',axis=1)\n",
    "    #could have also done answers1.set_index('SEQN') instead of dropping\n",
    "    y = df1['win']\n",
    "    X_train, X_test, y_train, y_test = train_test_split(X, y, test_size=0.30)\n",
    "    dtree = DecisionTreeClassifier()\n",
    "    dtree.fit(X_train,y_train)\n",
    "    predictions = dtree.predict(X_test)\n",
    "    #print(classification_report(y_test,predictions))\n",
    "\n",
    "    return metrics.accuracy_score(y_test, predictions)\n"
   ]
  },
  {
   "cell_type": "code",
   "execution_count": 435,
   "metadata": {},
   "outputs": [],
   "source": [
    "predictions = {}\n",
    "for num in possible_point_differences:\n",
    "    try:\n",
    "        predictions[f'{num}']=get_predictions (num)\n",
    "    except:\n",
    "        continue"
   ]
  },
  {
   "cell_type": "code",
   "execution_count": 429,
   "metadata": {},
   "outputs": [],
   "source": [
    "fourth_round_pred_no_stats = predictions"
   ]
  },
  {
   "cell_type": "code",
   "execution_count": 436,
   "metadata": {},
   "outputs": [
    {
     "data": {
      "text/plain": [
       "{'15': 0.9761904761904762,\n",
       " '1': 0.5067873303167421,\n",
       " '7': 0.5294117647058824,\n",
       " '3': 0.536723163841808,\n",
       " '8': 0.6326530612244898,\n",
       " '4': 0.4788732394366197,\n",
       " '6': 0.6363636363636364,\n",
       " '11': 0.7604166666666666,\n",
       " '2': 0.5806451612903226,\n",
       " '0': 1.0,\n",
       " '5': 0.54421768707483,\n",
       " '10': 0.6,\n",
       " '9': 0.6428571428571429,\n",
       " '12': 1.0}"
      ]
     },
     "execution_count": 436,
     "metadata": {},
     "output_type": "execute_result"
    }
   ],
   "source": [
    "#with stats\n",
    "predictions"
   ]
  },
  {
   "cell_type": "code",
   "execution_count": 433,
   "metadata": {},
   "outputs": [
    {
     "data": {
      "text/plain": [
       "{'15': 1.0,\n",
       " '1': 0.5158371040723982,\n",
       " '7': 0.7058823529411765,\n",
       " '3': 0.655367231638418,\n",
       " '8': 0.7551020408163265,\n",
       " '4': 0.7183098591549296,\n",
       " '6': 0.5454545454545454,\n",
       " '11': 0.84375,\n",
       " '2': 0.5806451612903226,\n",
       " '0': 1.0,\n",
       " '5': 0.6462585034013606,\n",
       " '10': 0.4,\n",
       " '9': 0.7448979591836735,\n",
       " '12': 1.0}"
      ]
     },
     "execution_count": 433,
     "metadata": {},
     "output_type": "execute_result"
    }
   ],
   "source": [
    "#no stats\n",
    "predictions"
   ]
  },
  {
   "cell_type": "code",
   "execution_count": 414,
   "metadata": {},
   "outputs": [
    {
     "data": {
      "text/plain": [
       "{'15': 1.0,\n",
       " '1': 0.5203619909502263,\n",
       " '7': 0.6838235294117647,\n",
       " '3': 0.6214689265536724,\n",
       " '8': 0.7619047619047619,\n",
       " '4': 0.7323943661971831,\n",
       " '6': 0.7272727272727273,\n",
       " '11': 0.8541666666666666,\n",
       " '2': 0.45161290322580644,\n",
       " '0': 1.0,\n",
       " '5': 0.673469387755102,\n",
       " '10': 0.2,\n",
       " '9': 0.7857142857142857,\n",
       " '12': 1.0}"
      ]
     },
     "execution_count": 414,
     "metadata": {},
     "output_type": "execute_result"
    }
   ],
   "source": [
    "All_pred_no_stats"
   ]
  },
  {
   "cell_type": "code",
   "execution_count": 418,
   "metadata": {},
   "outputs": [
    {
     "data": {
      "text/plain": [
       "{'15': 0.9880952380952381,\n",
       " '1': 0.42857142857142855,\n",
       " '7': 0.5833333333333334,\n",
       " '3': 0.5476190476190477,\n",
       " '11': 0.8690476190476191,\n",
       " '5': 0.6428571428571429,\n",
       " '9': 0.7142857142857143}"
      ]
     },
     "execution_count": 418,
     "metadata": {},
     "output_type": "execute_result"
    }
   ],
   "source": [
    "first_round_pred_no_stats"
   ]
  },
  {
   "cell_type": "code",
   "execution_count": 366,
   "metadata": {},
   "outputs": [],
   "source": [
    "first_round_pred = predictions"
   ]
  },
  {
   "cell_type": "code",
   "execution_count": 367,
   "metadata": {},
   "outputs": [
    {
     "data": {
      "text/plain": [
       "{'15': 0.9880952380952381,\n",
       " '1': 0.5238095238095238,\n",
       " '7': 0.6785714285714286,\n",
       " '3': 0.44047619047619047,\n",
       " '11': 0.6904761904761905,\n",
       " '5': 0.5119047619047619,\n",
       " '9': 0.6309523809523809}"
      ]
     },
     "execution_count": 367,
     "metadata": {},
     "output_type": "execute_result"
    }
   ],
   "source": [
    "first_round_pred"
   ]
  },
  {
   "cell_type": "code",
   "execution_count": 422,
   "metadata": {},
   "outputs": [
    {
     "data": {
      "text/plain": [
       "{'1': 0.5294117647058824,\n",
       " '7': 0.8095238095238095,\n",
       " '3': 0.7021276595744681,\n",
       " '8': 0.7602739726027398,\n",
       " '5': 0.6792452830188679}"
      ]
     },
     "execution_count": 422,
     "metadata": {},
     "output_type": "execute_result"
    }
   ],
   "source": [
    "second_round_pred_no_stats"
   ]
  },
  {
   "cell_type": "code",
   "execution_count": 359,
   "metadata": {},
   "outputs": [
    {
     "data": {
      "text/plain": [
       "{'1': 0.5686274509803921,\n",
       " '7': 0.6190476190476191,\n",
       " '3': 0.574468085106383,\n",
       " '8': 0.589041095890411,\n",
       " '5': 0.5849056603773585}"
      ]
     },
     "execution_count": 359,
     "metadata": {},
     "output_type": "execute_result"
    }
   ],
   "source": [
    "second_round_pred"
   ]
  },
  {
   "cell_type": "code",
   "execution_count": 426,
   "metadata": {},
   "outputs": [
    {
     "data": {
      "text/plain": [
       "{'1': 0.5757575757575758,\n",
       " '7': 0.5555555555555556,\n",
       " '3': 0.7352941176470589,\n",
       " '4': 0.6716417910447762,\n",
       " '11': 1.0,\n",
       " '5': 0.6666666666666666,\n",
       " '9': 0.7777777777777778,\n",
       " '12': 1.0}"
      ]
     },
     "execution_count": 426,
     "metadata": {},
     "output_type": "execute_result"
    }
   ],
   "source": [
    "third_round_pred_no_stats"
   ]
  },
  {
   "cell_type": "code",
   "execution_count": 360,
   "metadata": {},
   "outputs": [
    {
     "data": {
      "text/plain": [
       "{'1': 0.45454545454545453,\n",
       " '7': 0.4444444444444444,\n",
       " '3': 0.5588235294117647,\n",
       " '4': 0.5223880597014925,\n",
       " '11': 1.0,\n",
       " '5': 0.3333333333333333,\n",
       " '9': 0.6666666666666666,\n",
       " '12': 1.0}"
      ]
     },
     "execution_count": 360,
     "metadata": {},
     "output_type": "execute_result"
    }
   ],
   "source": [
    "third_round_pred"
   ]
  },
  {
   "cell_type": "code",
   "execution_count": 430,
   "metadata": {},
   "outputs": [
    {
     "data": {
      "text/plain": [
       "{'1': 0.3939393939393939,\n",
       " '7': 0.0,\n",
       " '3': 0.5,\n",
       " '6': 0.875,\n",
       " '2': 0.4583333333333333,\n",
       " '5': 0.8571428571428571,\n",
       " '10': 0.4,\n",
       " '9': 1.0}"
      ]
     },
     "execution_count": 430,
     "metadata": {},
     "output_type": "execute_result"
    }
   ],
   "source": [
    "fourth_round_pred_no_stats"
   ]
  },
  {
   "cell_type": "code",
   "execution_count": 361,
   "metadata": {},
   "outputs": [
    {
     "data": {
      "text/plain": [
       "{'1': 0.45454545454545453,\n",
       " '7': 0.0,\n",
       " '3': 0.5,\n",
       " '6': 1.0,\n",
       " '2': 0.2916666666666667,\n",
       " '5': 0.5714285714285714,\n",
       " '10': 0.2,\n",
       " '9': 0.3333333333333333}"
      ]
     },
     "execution_count": 361,
     "metadata": {},
     "output_type": "execute_result"
    }
   ],
   "source": [
    "fourth_round_pred"
   ]
  },
  {
   "cell_type": "code",
   "execution_count": 362,
   "metadata": {},
   "outputs": [
    {
     "data": {
      "text/plain": [
       "{'1': 0.5833333333333334,\n",
       " '7': 0.0,\n",
       " '3': 0.6666666666666666,\n",
       " '8': 1.0,\n",
       " '4': 0.3333333333333333,\n",
       " '6': 0.3333333333333333,\n",
       " '2': 0.6666666666666666,\n",
       " '0': 1.0,\n",
       " '9': 0.5}"
      ]
     },
     "execution_count": 362,
     "metadata": {},
     "output_type": "execute_result"
    }
   ],
   "source": [
    "fifth_round_pred"
   ]
  },
  {
   "cell_type": "code",
   "execution_count": 363,
   "metadata": {},
   "outputs": [
    {
     "data": {
      "text/plain": [
       "{'1': 0.4444444444444444,\n",
       " '7': 0.0,\n",
       " '3': 0.0,\n",
       " '4': 1.0,\n",
       " '2': 0.5,\n",
       " '0': 1.0,\n",
       " '5': 0.5}"
      ]
     },
     "execution_count": 363,
     "metadata": {},
     "output_type": "execute_result"
    }
   ],
   "source": [
    "sixth_round_pred"
   ]
  },
  {
   "cell_type": "code",
   "execution_count": 308,
   "metadata": {
    "scrolled": true
   },
   "outputs": [
    {
     "data": {
      "text/plain": [
       "{'15': 1.0,\n",
       " '1': 0.5067873303167421,\n",
       " '7': 0.5882352941176471,\n",
       " '3': 0.5141242937853108,\n",
       " '8': 0.6394557823129252,\n",
       " '4': 0.5915492957746479,\n",
       " '6': 0.6363636363636364,\n",
       " '11': 0.7916666666666666,\n",
       " '2': 0.3870967741935484,\n",
       " '0': 1.0,\n",
       " '5': 0.5238095238095238,\n",
       " '10': 0.8,\n",
       " '9': 0.7142857142857143,\n",
       " '12': 1.0}"
      ]
     },
     "execution_count": 308,
     "metadata": {},
     "output_type": "execute_result"
    }
   ],
   "source": [
    "All_rounds_predictions"
   ]
  },
  {
   "cell_type": "code",
   "execution_count": 337,
   "metadata": {},
   "outputs": [],
   "source": [
    "possible_point_differences=[15,  1,  7,  3,  8,  4,  6, 11,  2,  0,  5, 10,  9, 12]"
   ]
  },
  {
   "cell_type": "markdown",
   "metadata": {},
   "source": [
    "# Insert rounds back in"
   ]
  },
  {
   "cell_type": "code",
   "execution_count": 76,
   "metadata": {},
   "outputs": [],
   "source": [
    "def split_all_data_up (df,column):\n",
    "    round_=[]\n",
    "    i=0\n",
    "    for thing in list(column):\n",
    "        if i== 62:\n",
    "            round_.append(6)\n",
    "            round_.append(6)\n",
    "            i=0\n",
    "        elif 0<=i<=7 or 15<=i<=22 or 30<=i<=37 or 45<=i<=52:\n",
    "            round_.append(1)\n",
    "            round_.append(1)\n",
    "            i+=1\n",
    "        elif 8<=i<=11 or 23<=i<=26 or 38<=i<=41 or 53<=i<=56:\n",
    "            round_.append(2)\n",
    "            round_.append(2)\n",
    "            i+=1\n",
    "        elif 12<=i<=13 or 27<=i<=28 or 42<=i<=43 or 57<=i<=58:\n",
    "            round_.append(3)\n",
    "            round_.append(3)\n",
    "            i+=1\n",
    "        elif i==14 or i==29 or i==44 or i==59:\n",
    "            round_.append(4)\n",
    "            round_.append(4)\n",
    "            i+=1\n",
    "        elif i == 60 or i == 61:\n",
    "            round_.append(5)\n",
    "            round_.append(5)\n",
    "            i+=1\n",
    "    round_ = round_[0:4410]\n",
    "    return round_"
   ]
  },
  {
   "cell_type": "code",
   "execution_count": 122,
   "metadata": {},
   "outputs": [],
   "source": [
    "blah=split_all_data_up (df,df1['point_difference'])"
   ]
  },
  {
   "cell_type": "code",
   "execution_count": 123,
   "metadata": {},
   "outputs": [
    {
     "data": {
      "text/plain": [
       "4410"
      ]
     },
     "execution_count": 123,
     "metadata": {},
     "output_type": "execute_result"
    }
   ],
   "source": [
    "len(blah)"
   ]
  },
  {
   "cell_type": "code",
   "execution_count": 124,
   "metadata": {},
   "outputs": [],
   "source": [
    "df1['round']=blah"
   ]
  },
  {
   "cell_type": "code",
   "execution_count": null,
   "metadata": {},
   "outputs": [],
   "source": []
  }
 ],
 "metadata": {
  "kernelspec": {
   "display_name": "Python 3",
   "language": "python",
   "name": "python3"
  },
  "language_info": {
   "codemirror_mode": {
    "name": "ipython",
    "version": 3
   },
   "file_extension": ".py",
   "mimetype": "text/x-python",
   "name": "python",
   "nbconvert_exporter": "python",
   "pygments_lexer": "ipython3",
   "version": "3.7.1"
  }
 },
 "nbformat": 4,
 "nbformat_minor": 2
}

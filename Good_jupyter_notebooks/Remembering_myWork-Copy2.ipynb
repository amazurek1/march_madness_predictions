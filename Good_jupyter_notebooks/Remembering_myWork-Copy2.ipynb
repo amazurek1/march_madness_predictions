{
 "cells": [
  {
   "cell_type": "code",
   "execution_count": 2,
   "metadata": {},
   "outputs": [],
   "source": [
    "import requests\n",
    "from bs4 import BeautifulSoup as BS\n",
    "import pandas as pd\n",
    "import time\n",
    "import matplotlib.pyplot as plt\n",
    "import numpy as np\n"
   ]
  },
  {
   "cell_type": "markdown",
   "metadata": {},
   "source": [
    "# Everything\n",
    "#run all cells below this section"
   ]
  },
  {
   "cell_type": "code",
   "execution_count": null,
   "metadata": {},
   "outputs": [],
   "source": [
    "def really_everything (year):\n",
    "    #getting sports reference stuff\n",
    "    newdf2=everything ('https://www.sports-reference.com/cbb/postseason/'+f'{year}'+'-ncaa.html')\n",
    "    the_year = []\n",
    "    #print('before the for loop')\n",
    "    for thing in newdf2['first_team']:\n",
    "        the_year.append(year)\n",
    "    newdf2['year']=the_year\n",
    "    #print('right before new loop')\n",
    "    \n",
    "    \n",
    "\n",
    "    \n",
    "    #getting ESPN stuff\n",
    "    df2=merge_espn (year)\n",
    "    #print('finished espn')\n",
    "    \n",
    "    #merging\n",
    "    possibly2 = pd.merge(newdf2,df2, left_on = 'name', right_on = 'Name')\n",
    "    possibly2 = possibly2.sort_values(by ='index' )\n",
    "    the_values=find_missing_values (list(possibly2['index']))\n",
    "    for thing in the_values:\n",
    "        #print(thing)\n",
    "        the_name=list(newdf2[(newdf2['index']==thing)]['name'])[0]\n",
    "        ESPN_name=ESPN_sports_reference_dict[f\"{the_name}\"]\n",
    "        possibly2=add_to_df (ESPN_name, thing,possibly2, df2, newdf2)\n",
    "    \n",
    "    \n",
    "    other_team_seed = []\n",
    "    i = 0\n",
    "    for thing in list(possibly2['team_rank']):\n",
    "        if thing == list(possibly2['second_team'])[i]:\n",
    "            other_team_seed.append(list(possibly2['first_team'])[i])\n",
    "        elif thing == list(possibly2['first_team'])[i]:\n",
    "            other_team_seed.append(list(possibly2['second_team'])[i])\n",
    "        i+=1\n",
    "    #print('made it here')\n",
    "    possibly2['other_team_seed']=other_team_seed\n",
    "    #print('finished sports reference')\n",
    "    \n",
    "    \n",
    "    possibly2.drop(['first_team','second_team'], axis = 1, inplace = True)\n",
    "    possibly2.rename(columns={'team_rank':'team_seed'}, inplace = True)\n",
    "    possibly2 = possibly2.sort_values(by ='index' )\n",
    "\n",
    "        \n",
    "    return possibly2"
   ]
  },
  {
   "cell_type": "code",
   "execution_count": null,
   "metadata": {},
   "outputs": [],
   "source": [
    "all_data_not_advanced=really_everything (1985)"
   ]
  },
  {
   "cell_type": "code",
   "execution_count": null,
   "metadata": {},
   "outputs": [],
   "source": [
    "years = []\n",
    "beg = 1986\n",
    "for num in range(1,35):\n",
    "    years.append(beg)\n",
    "    beg+=1"
   ]
  },
  {
   "cell_type": "code",
   "execution_count": null,
   "metadata": {},
   "outputs": [],
   "source": [
    "for year in years:\n",
    "    data=really_everything(year)\n",
    "    all_data_not_advanced=all_data_not_advanced.append(data, ignore_index=True)"
   ]
  },
  {
   "cell_type": "markdown",
   "metadata": {},
   "source": [
    "# getting info from sports reference"
   ]
  },
  {
   "cell_type": "code",
   "execution_count": 3,
   "metadata": {},
   "outputs": [],
   "source": [
    "def get_winners (link):\n",
    "    print (link)\n",
    "    page = requests.get(link)\n",
    "    #print('here')\n",
    "    soup = BS(page.content, 'html.parser')\n",
    "    idk=soup.select('div[class=\"round\"]')\n",
    "    i=0\n",
    "    k=0\n",
    "    winners=[]\n",
    "    for thing in list(range(1,100)):\n",
    "        if k == 22:\n",
    "            break\n",
    "        elif k == 0 or k== 1 or k==2 or k==3 or k==5 or k==6 or k==7 or k==8 or k==10 or k==11 or k==12 or k==13 or k==15 or k==16 or k==17 or k==18 or k==20 or k==21:\n",
    "            try:\n",
    "                winners.append(idk[k].select('div')[i].select('div[class=\"winner\"]')[0].select('span')[0].string)\n",
    "                i+=3\n",
    "            except:\n",
    "                i=0\n",
    "                k+=1\n",
    "                continue\n",
    "        else:\n",
    "            i=0\n",
    "            k+=1\n",
    "            continue\n",
    "    winners_int=[]\n",
    "    for thing in winners:\n",
    "        winners_int.append(int(thing))\n",
    "    return winners_int"
   ]
  },
  {
   "cell_type": "code",
   "execution_count": 4,
   "metadata": {},
   "outputs": [],
   "source": [
    "#function for getting the teams\n",
    "#gets the teams that played each other all together\n",
    "def get_teams (link,k):\n",
    "    page = requests.get(link)\n",
    "    soup = BS(page.content, 'html.parser')\n",
    "    idk=soup.select('div[class=\"round\"]')\n",
    "    i=1\n",
    "    maybe = []\n",
    "    for thing in list(range(1,100)):\n",
    "        if i%3 !=0:\n",
    "            try:\n",
    "                maybe.append(idk[k].select('div')[i].select('span')[0].string)\n",
    "                i+=1\n",
    "            except:\n",
    "                i+=1\n",
    "                continue\n",
    "        else:\n",
    "            i+=1\n",
    "            continue\n",
    "    return maybe\n",
    "\n"
   ]
  },
  {
   "cell_type": "code",
   "execution_count": 5,
   "metadata": {},
   "outputs": [],
   "source": [
    "#uses the function to split up the teams that played each other into 2 separate lists\n",
    "def split_up_teams (link):\n",
    "    All_teams = []\n",
    "    for thing in list(range(0,23)):\n",
    "        new=get_teams (link,thing)\n",
    "        All_teams.extend(new)\n",
    "    All_teams.pop(-1)\n",
    "    All_teams.pop(30)\n",
    "    All_teams.pop(60)\n",
    "    All_teams.pop(90)\n",
    "    All_teams.pop(120)\n",
    "    first_team = All_teams[0::2]\n",
    "    second_team = All_teams[1::2]\n",
    "    first_team_int = []\n",
    "    for thing in first_team:\n",
    "        first_team_int.append(int(thing))\n",
    "    second_team_int = []\n",
    "    for thing in second_team:\n",
    "        second_team_int.append(int(thing))\n",
    "    first_team_pd = pd.DataFrame(first_team_int)\n",
    "    second_team_pd = pd.DataFrame(second_team_int)\n",
    "    point_difference = first_team_pd-second_team_pd\n",
    "    point_difference_list=point_difference.values.tolist()\n",
    "    point_diff_abs = []\n",
    "    for thing in point_difference_list:\n",
    "        point_diff_abs.append(abs(thing[0]))\n",
    "    return first_team_int,second_team_int,point_diff_abs\n",
    "\n"
   ]
  },
  {
   "cell_type": "code",
   "execution_count": 6,
   "metadata": {},
   "outputs": [],
   "source": [
    "def get_team_names (link,k):\n",
    "    page = requests.get(link)\n",
    "    soup = BS(page.content, 'html.parser')\n",
    "    idk=soup.select('div[class=\"round\"]')\n",
    "    maybe = []\n",
    "    for thing in list(range(0,100)):\n",
    "        try:\n",
    "            maybe.append(idk[k].select('a[href^=/cbb/schools]')[thing].string)\n",
    "        except:\n",
    "            continue\n",
    "    return maybe\n",
    "\n"
   ]
  },
  {
   "cell_type": "code",
   "execution_count": 7,
   "metadata": {},
   "outputs": [],
   "source": [
    "def get_teams_get (link):\n",
    "    team_names = []\n",
    "    for thing in list(range(0,23)):\n",
    "        new=get_team_names (link,thing)\n",
    "        team_names.extend(new)\n",
    "    team_names.pop(-1)\n",
    "    team_names.pop(30)\n",
    "    team_names.pop(60)\n",
    "    team_names.pop(90)\n",
    "    team_names.pop(120)\n",
    "    return team_names\n",
    "\n"
   ]
  },
  {
   "cell_type": "code",
   "execution_count": 8,
   "metadata": {},
   "outputs": [],
   "source": [
    "def split_up_teams_2 (link):\n",
    "    All_teams = []\n",
    "    for thing in list(range(0,23)):\n",
    "        new=get_teams (link,thing)\n",
    "        All_teams.extend(new)\n",
    "    All_teams.pop(-1)\n",
    "    All_teams.pop(30)\n",
    "    All_teams.pop(60)\n",
    "    All_teams.pop(90)\n",
    "    All_teams.pop(120)\n",
    "    return All_teams"
   ]
  },
  {
   "cell_type": "code",
   "execution_count": 10,
   "metadata": {},
   "outputs": [],
   "source": [
    "def everything (link):\n",
    "    first_team_int = []\n",
    "    second_team_int = []\n",
    "    point_diff_abs = []\n",
    "    winners_int = []\n",
    "\n",
    "    winners=get_winners (link)\n",
    "    three_lists=split_up_teams (link)\n",
    "    first_team_int.extend(three_lists[0])\n",
    "    second_team_int.extend(three_lists[1])\n",
    "    point_diff_abs.extend(three_lists[2])\n",
    "    winners_int.extend(winners)\n",
    "    #time.sleep(3)\n",
    "    #print(len(first_team_int), len(second_team_int),len(point_diff_abs), len(winners_int))\n",
    "    df = pd.DataFrame({\"first_team\": first_team_int, \"second_team\": second_team_int,\n",
    "                       \"winner\" : winners_int, \"point_difference\": point_diff_abs})\n",
    "    result = []\n",
    "    i = 0\n",
    "    for thing in list(df['winner']):\n",
    "        #print(f'this is {i}')\n",
    "        if list(df['first_team'])[i] > list(df['second_team'])[i] and list(df['first_team'])[i] == list(df['winner'])[i]:\n",
    "            #print(f'this is if1')\n",
    "            result.append(2)\n",
    "        elif list(df['second_team'])[i] > list(df['first_team'])[i] and list(df['second_team'])[i] == list(df['winner'])[i]:\n",
    "            #print(f'this is elif1')\n",
    "            result.append(2)\n",
    "        elif list(df['first_team'])[i] < list(df['second_team'])[i] and list(df['first_team'])[i] == list(df['winner'])[i]:\n",
    "            #print(f'this is elif2')\n",
    "            result.append(1)\n",
    "        elif list(df['second_team'])[i] < list(df['first_team'])[i] and list(df['second_team'])[i] == list(df['winner'])[i]:\n",
    "            #print(f'this is elif3')\n",
    "            result.append(1)\n",
    "        else:\n",
    "            result.append(0)\n",
    "        i+=1\n",
    "    df['result']=result\n",
    "    newdf2 = pd.DataFrame(np.repeat(df.values,2,axis=0))\n",
    "    newdf2.columns = df.columns\n",
    "    team_names=get_teams_get (link)\n",
    "    All_teams=split_up_teams_2(link)\n",
    "    rankings= []\n",
    "    for thing in All_teams:\n",
    "        #print(thing)\n",
    "        rankings.append(int(thing))\n",
    "    newdf2['team_name'] = team_names\n",
    "    newdf2['team_rank'] = rankings\n",
    "    win = []\n",
    "    i = 0\n",
    "    for thing in list(newdf2['team_rank']):\n",
    "        if list(newdf2['first_team'])[i] == list(newdf2['second_team'])[i]:\n",
    "            win.append(9999)\n",
    "        elif list(newdf2['team_rank'])[i] == list(newdf2['winner'])[i]:\n",
    "            win.append(1)\n",
    "        elif list(newdf2['team_rank'])[i] != list(newdf2['winner'])[i]:\n",
    "            win.append(0)\n",
    "        i+=1\n",
    "    newdf2['win']=win\n",
    "    #if the team has a lower seed number, it is given '1', higher seed number '0'\n",
    "    higher_or_lower_seed = []\n",
    "    i = 0\n",
    "    for thing in list(newdf2['team_rank']):\n",
    "        if list(newdf2['first_team'])[i] == list(newdf2['second_team'])[i]:\n",
    "            higher_or_lower_seed.append(9999)\n",
    "        elif list(newdf2['team_rank'])[i] == list(newdf2['first_team'])[i] and list(newdf2['first_team'])[i] < list(newdf2['second_team'])[i]:\n",
    "            higher_or_lower_seed.append(1)\n",
    "        elif list(newdf2['team_rank'])[i] == list(newdf2['first_team'])[i] and list(newdf2['first_team'])[i] > list(newdf2['second_team'])[i]:\n",
    "            higher_or_lower_seed.append(0)\n",
    "        elif list(newdf2['team_rank'])[i] == list(newdf2['second_team'])[i] and list(newdf2['second_team'])[i] < list(newdf2['first_team'])[i]:\n",
    "            higher_or_lower_seed.append(1)\n",
    "        elif list(newdf2['team_rank'])[i] == list(newdf2['second_team'])[i] and list(newdf2['second_team'])[i] > list(newdf2['first_team'])[i]:\n",
    "            higher_or_lower_seed.append(0)\n",
    "        i+=1\n",
    "    newdf2['higher_or_lower_seed']=higher_or_lower_seed\n",
    "    #newdf2.to_csv(f'{link}')\n",
    "    newdf2.rename(columns = {'team_name':'name'}, inplace = True)\n",
    "    newdf2['index']=list(range(0,126))\n",
    "    return newdf2"
   ]
  },
  {
   "cell_type": "markdown",
   "metadata": {},
   "source": [
    "# getting score info from ESPN"
   ]
  },
  {
   "cell_type": "code",
   "execution_count": 11,
   "metadata": {},
   "outputs": [],
   "source": [
    "def get_score_info (year):\n",
    "    \n",
    "    list_years = []\n",
    "    i = year\n",
    "    for num in range(0,1):\n",
    "        list_years.append(str(i))\n",
    "        i+=1\n",
    "        \n",
    "        \n",
    "    links = []\n",
    "    for thing in list_years:\n",
    "        links.append('http://www.espn.com/mens-college-basketball/statistics/team/_/stat/scoring-per-game/sort/avgPoints/year/'+thing)\n",
    "        links.append('http://www.espn.com/mens-college-basketball/statistics/team/_/stat/scoring-per-game/sort/avgPoints/year/'+thing+'/count/41')\n",
    "        links.append('http://www.espn.com/mens-college-basketball/statistics/team/_/stat/scoring-per-game/sort/avgPoints/year/'+thing+'/count/81')\n",
    "        links.append('http://www.espn.com/mens-college-basketball/statistics/team/_/stat/scoring-per-game/sort/avgPoints/year/'+thing+'/count/121')\n",
    "        links.append('http://www.espn.com/mens-college-basketball/statistics/team/_/stat/scoring-per-game/sort/avgPoints/year/'+thing+'/count/161')\n",
    "        links.append('http://www.espn.com/mens-college-basketball/statistics/team/_/stat/scoring-per-game/sort/avgPoints/year/'+thing+'/count/201')\n",
    "        links.append('http://www.espn.com/mens-college-basketball/statistics/team/_/stat/scoring-per-game/sort/avgPoints/year/'+thing+'/count/241')\n",
    "        links.append('http://www.espn.com/mens-college-basketball/statistics/team/_/stat/scoring-per-game/sort/avgPoints/year/'+thing+'/count/281')\n",
    "        links.append('http://www.espn.com/mens-college-basketball/statistics/team/_/stat/scoring-per-game/sort/avgPoints/year/'+thing+'/count/321')\n",
    "    \n",
    "    names = []\n",
    "    PTS = []\n",
    "    FG_perc = []\n",
    "    _3p_perc = []\n",
    "    FT_perc = []\n",
    "    for link in links:\n",
    "        #print(link)\n",
    "        page = requests.get(link)\n",
    "        soup = BS(page.content, 'html.parser')\n",
    "        idk=soup.select('tr[class^=\"oddrow\"]')\n",
    "        idk2=soup.select('tr[class^=\"evenrow\"]')\n",
    "        i = 0\n",
    "        if len(idk)>len(idk2):\n",
    "            for thing in idk:\n",
    "                try:    \n",
    "                    names.append(thing.select('td')[1].string)\n",
    "                    PTS.append(float(thing.select('td')[3].string))\n",
    "                    FG_perc.append(float(thing.select('td')[5].string))\n",
    "                    _3p_perc.append(float(thing.select('td')[7].string))\n",
    "                    FT_perc.append(float(thing.select('td')[9].string))\n",
    "                    \n",
    "                    names.append(idk2[i].select('td')[1].string)\n",
    "                    PTS.append(float(idk2[i].select('td')[3].string))\n",
    "                    FG_perc.append(float(idk2[i].select('td')[5].string))\n",
    "                    _3p_perc.append(float(idk2[i].select('td')[7].string))\n",
    "                    FT_perc.append(float(idk2[i].select('td')[9].string))\n",
    "                    i+=1\n",
    "                except:\n",
    "                    continue\n",
    "                    i+=1\n",
    "        else:\n",
    "            for thing in idk2:\n",
    "                try:    \n",
    "                    names.append(thing.select('td')[1].string)\n",
    "                    PTS.append(float(thing.select('td')[3].string))\n",
    "                    FG_perc.append(float(thing.select('td')[5].string))\n",
    "                    _3p_perc.append(float(thing.select('td')[7].string))\n",
    "                    FT_perc.append(float(thing.select('td')[9].string))\n",
    "                    \n",
    "                    names.append(idk[i].select('td')[1].string)\n",
    "                    PTS.append(float(idk[i].select('td')[3].string))\n",
    "                    FG_perc.append(float(idk[i].select('td')[5].string))\n",
    "                    _3p_perc.append(float(idk[i].select('td')[7].string))\n",
    "                    FT_perc.append(float(idk[i].select('td')[9].string))\n",
    "                    i+=1\n",
    "                except:\n",
    "                    continue\n",
    "                    i+=1\n",
    "    D = {'Name':names, 'PTS':PTS, 'FG_perc':FG_perc, '_3p_perc':_3p_perc, 'FT_perc':FT_perc}\n",
    "    df2 = pd.DataFrame(data=D)\n",
    "    \n",
    "    the_year = []\n",
    "    for thing in df2['Name']:\n",
    "        the_year.append(year)\n",
    "        \n",
    "    df2['year']=the_year\n",
    "            \n",
    "\n",
    "\n",
    "            \n",
    "    return df2"
   ]
  },
  {
   "cell_type": "markdown",
   "metadata": {},
   "source": [
    "# ESPN Rebound Data"
   ]
  },
  {
   "cell_type": "code",
   "execution_count": 12,
   "metadata": {},
   "outputs": [],
   "source": [
    "def get_rebound_info (year):\n",
    "    \n",
    "    list_years = []\n",
    "    i = year\n",
    "    for num in range(0,1):\n",
    "        list_years.append(str(i))\n",
    "        i+=1\n",
    "        \n",
    "        \n",
    "    links = []\n",
    "    for thing in list_years:\n",
    "        links.append('http://www.espn.com/mens-college-basketball/statistics/team/_/stat/rebounds/sort/avgPoints/year/'+thing)\n",
    "        links.append('http://www.espn.com/mens-college-basketball/statistics/team/_/stat/rebounds/sort/avgPoints/year/'+thing+'/count/41')\n",
    "        links.append('http://www.espn.com/mens-college-basketball/statistics/team/_/stat/rebounds/sort/avgPoints/year/'+thing+'/count/81')\n",
    "        links.append('http://www.espn.com/mens-college-basketball/statistics/team/_/stat/rebounds/sort/avgPoints/year/'+thing+'/count/121')\n",
    "        links.append('http://www.espn.com/mens-college-basketball/statistics/team/_/stat/rebounds/sort/avgPoints/year/'+thing+'/count/161')\n",
    "        links.append('http://www.espn.com/mens-college-basketball/statistics/team/_/stat/rebounds/sort/avgPoints/year/'+thing+'/count/201')\n",
    "        links.append('http://www.espn.com/mens-college-basketball/statistics/team/_/stat/rebounds/sort/avgPoints/year/'+thing+'/count/241')\n",
    "        links.append('http://www.espn.com/mens-college-basketball/statistics/team/_/stat/rebounds/sort/avgPoints/year/'+thing+'/count/281')\n",
    "        links.append('http://www.espn.com/mens-college-basketball/statistics/team/_/stat/rebounds/sort/avgPoints/year/'+thing+'/count/321')\n",
    "    \n",
    "    names = []\n",
    "    ORPG = []\n",
    "    DRPG = []\n",
    "    RPG = []\n",
    "    for link in links:\n",
    "        #print(link)\n",
    "        page = requests.get(link)\n",
    "        soup = BS(page.content, 'html.parser')\n",
    "        idk=soup.select('tr[class^=\"oddrow\"]')\n",
    "        idk2=soup.select('tr[class^=\"evenrow\"]')\n",
    "        i = 0\n",
    "        if len(idk)>len(idk2):\n",
    "            for thing in idk:\n",
    "                try:    \n",
    "                    names.append(thing.select('td')[1].string)\n",
    "                    ORPG.append(float(thing.select('td')[4].string))\n",
    "                    DRPG.append(float(thing.select('td')[6].string))\n",
    "                    RPG.append(float(thing.select('td')[8].string))\n",
    "                    \n",
    "                    names.append(idk2[i].select('td')[1].string)\n",
    "                    ORPG.append(float(idk2[i].select('td')[4].string))\n",
    "                    DRPG.append(float(idk2[i].select('td')[6].string))\n",
    "                    RPG.append(float(idk2[i].select('td')[8].string))\n",
    "                    i+=1\n",
    "                except:\n",
    "                    continue\n",
    "                    i+=1\n",
    "        else:\n",
    "            for thing in idk2:\n",
    "                try:    \n",
    "                    names.append(thing.select('td')[1].string)\n",
    "                    ORPG.append(float(thing.select('td')[4].string))\n",
    "                    DRPG.append(float(thing.select('td')[6].string))\n",
    "                    RPG.append(float(thing.select('td')[8].string))\n",
    "                    \n",
    "                    names.append(idk[i].select('td')[1].string)\n",
    "                    ORPG.append(float(idk[i].select('td')[4].string))\n",
    "                    DRPG.append(float(idk[i].select('td')[6].string))\n",
    "                    RPG.append(float(idk[i].select('td')[8].string))\n",
    "                    i+=1\n",
    "                except:\n",
    "                    continue\n",
    "                    i+=1\n",
    "                    \n",
    "    D = {'Name':names, 'ORPG':ORPG, 'DRPG':DRPG, 'RPG':RPG}\n",
    "    df2 = pd.DataFrame(data=D)\n",
    "\n",
    "            \n",
    "            \n",
    "\n",
    "\n",
    "            \n",
    "    return df2"
   ]
  },
  {
   "cell_type": "markdown",
   "metadata": {},
   "source": [
    "# ESPN Field Goals"
   ]
  },
  {
   "cell_type": "code",
   "execution_count": 13,
   "metadata": {},
   "outputs": [],
   "source": [
    "def get_field_goal_info (year):\n",
    "    list_years = []\n",
    "    i = year\n",
    "    for num in range(0,1):\n",
    "        list_years.append(str(i))\n",
    "        i+=1\n",
    "    \n",
    "    links = []\n",
    "    for thing in list_years:\n",
    "        links.append('http://www.espn.com/mens-college-basketball/statistics/team/_/stat/field-goals/sort/avgPoints/year/'+thing)\n",
    "        links.append('http://www.espn.com/mens-college-basketball/statistics/team/_/stat/field-goals/sort/avgPoints/year/'+thing+'/count/41')\n",
    "        links.append('http://www.espn.com/mens-college-basketball/statistics/team/_/stat/field-goals/sort/avgPoints/year/'+thing+'/count/81')\n",
    "        links.append('http://www.espn.com/mens-college-basketball/statistics/team/_/stat/field-goals/sort/avgPoints/year/'+thing+'/count/121')\n",
    "        links.append('http://www.espn.com/mens-college-basketball/statistics/team/_/stat/field-goals/sort/avgPoints/year/'+thing+'/count/161')\n",
    "        links.append('http://www.espn.com/mens-college-basketball/statistics/team/_/stat/field-goals/sort/avgPoints/year/'+thing+'/count/201')\n",
    "        links.append('http://www.espn.com/mens-college-basketball/statistics/team/_/stat/field-goals/sort/avgPoints/year/'+thing+'/count/241')\n",
    "        links.append('http://www.espn.com/mens-college-basketball/statistics/team/_/stat/field-goals/sort/avgPoints/year/'+thing+'/count/281')\n",
    "        links.append('http://www.espn.com/mens-college-basketball/statistics/team/_/stat/field-goals/sort/avgPoints/year/'+thing+'/count/321')\n",
    "        \n",
    "    names = []\n",
    "    _2pm = []\n",
    "    _2pa = []\n",
    "    _2p_perc = []\n",
    "    for link in links:\n",
    "        #print(link)\n",
    "        page = requests.get(link)\n",
    "        soup = BS(page.content, 'html.parser')\n",
    "        idk=soup.select('tr[class^=\"oddrow\"]')\n",
    "        idk2=soup.select('tr[class^=\"evenrow\"]')\n",
    "        i = 0\n",
    "        if len(idk)>len(idk2):\n",
    "            for thing in idk:\n",
    "                try:    \n",
    "                    names.append(thing.select('td')[1].string)\n",
    "                    _2pm.append(float(thing.select('td')[9].string))\n",
    "                    _2pa.append(float(thing.select('td')[10].string))\n",
    "                    _2p_perc.append(float(thing.select('td')[11].string))\n",
    "                    \n",
    "                    names.append(idk2[i].select('td')[1].string)\n",
    "                    _2pm.append(float(idk2[i].select('td')[9].string))\n",
    "                    _2pa.append(float(idk2[i].select('td')[10].string))\n",
    "                    _2p_perc.append(float(idk2[i].select('td')[11].string))\n",
    "                    i+=1\n",
    "                except:\n",
    "                    continue\n",
    "                    i+=1\n",
    "        else:\n",
    "            for thing in idk2:\n",
    "                try:    \n",
    "                    names.append(thing.select('td')[1].string)\n",
    "                    _2pm.append(float(thing.select('td')[9].string))\n",
    "                    _2pa.append(float(thing.select('td')[10].string))\n",
    "                    _2p_perc.append(float(thing.select('td')[11].string))\n",
    "                    \n",
    "                    names.append(idk[i].select('td')[1].string)\n",
    "                    _2pm.append(float(idk[i].select('td')[9].string))\n",
    "                    _2pa.append(float(idk[i].select('td')[10].string))\n",
    "                    _2p_perc.append(float(idk[i].select('td')[11].string))\n",
    "                    i+=1\n",
    "                except:\n",
    "                    continue\n",
    "                    i+=1\n",
    "            \n",
    "    D = {'Name':names, '_2pm':_2pm, '_2pa':_2pa, '_2p_perc':_2p_perc}\n",
    "    df2 = pd.DataFrame(data=D)\n",
    "\n",
    "   \n",
    "\n",
    "\n",
    "            \n",
    "    return df2"
   ]
  },
  {
   "cell_type": "markdown",
   "metadata": {},
   "source": [
    "# ESPN 3-point data"
   ]
  },
  {
   "cell_type": "code",
   "execution_count": 14,
   "metadata": {},
   "outputs": [],
   "source": [
    "def get_3_point_info (year):\n",
    "    \n",
    "    list_years = []\n",
    "    i = year\n",
    "    for num in range(0,1):\n",
    "        list_years.append(str(i))\n",
    "        i+=1\n",
    "        \n",
    "    \n",
    "    links = []\n",
    "    for thing in list_years:\n",
    "        links.append('http://www.espn.com/mens-college-basketball/statistics/team/_/stat/3-points/sort/avgPoints/year/'+thing)\n",
    "        links.append('http://www.espn.com/mens-college-basketball/statistics/team/_/stat/3-points/sort/avgPoints/year/'+thing+'/count/41')\n",
    "        links.append('http://www.espn.com/mens-college-basketball/statistics/team/_/stat/3-points/sort/avgPoints/year/'+thing+'/count/81')\n",
    "        links.append('http://www.espn.com/mens-college-basketball/statistics/team/_/stat/3-points/sort/avgPoints/year/'+thing+'/count/121')\n",
    "        links.append('http://www.espn.com/mens-college-basketball/statistics/team/_/stat/3-points/sort/avgPoints/year/'+thing+'/count/161')\n",
    "        links.append('http://www.espn.com/mens-college-basketball/statistics/team/_/stat/3-points/sort/avgPoints/year/'+thing+'/count/201')\n",
    "        links.append('http://www.espn.com/mens-college-basketball/statistics/team/_/stat/3-points/sort/avgPoints/year/'+thing+'/count/241')\n",
    "        links.append('http://www.espn.com/mens-college-basketball/statistics/team/_/stat/3-points/sort/avgPoints/year/'+thing+'/count/281')\n",
    "        links.append('http://www.espn.com/mens-college-basketball/statistics/team/_/stat/3-points/sort/avgPoints/year/'+thing+'/count/321')\n",
    "    \n",
    "    \n",
    "    names = []\n",
    "    _3pm = []\n",
    "    _3pa = []\n",
    "    for link in links:\n",
    "        #print(link)\n",
    "        page = requests.get(link)\n",
    "        soup = BS(page.content, 'html.parser')\n",
    "        idk=soup.select('tr[class^=\"oddrow\"]')\n",
    "        idk2=soup.select('tr[class^=\"evenrow\"]')\n",
    "        i = 0\n",
    "        if len(idk)>len(idk2):\n",
    "            for thing in idk:\n",
    "                try:    \n",
    "                    names.append(thing.select('td')[1].string)\n",
    "                    _3pm.append(float(thing.select('td')[4].string))\n",
    "                    _3pa.append(float(thing.select('td')[5].string))\n",
    "                    \n",
    "                    names.append(idk2[i].select('td')[1].string)\n",
    "                    _3pm.append(float(idk2[i].select('td')[4].string))\n",
    "                    _3pa.append(float(idk2[i].select('td')[5].string))\n",
    "                    i+=1\n",
    "                except:\n",
    "                    continue\n",
    "                    i+=1\n",
    "        else:\n",
    "            for thing in idk2:\n",
    "                try:    \n",
    "                    names.append(thing.select('td')[1].string)\n",
    "                    _3pm.append(float(thing.select('td')[4].string))\n",
    "                    _3pa.append(float(thing.select('td')[5].string))\n",
    "                    \n",
    "                    names.append(idk[i].select('td')[1].string)\n",
    "                    _3pm.append(float(idk[i].select('td')[4].string))\n",
    "                    _3pa.append(float(idk[i].select('td')[5].string))\n",
    "                    i+=1\n",
    "                except:\n",
    "                    continue\n",
    "                    i+=1\n",
    "            \n",
    "    D = {'Name':names, '_3pm':_3pm, '_3pa':_3pa}\n",
    "    df2 = pd.DataFrame(data=D)\n",
    "\n",
    "            \n",
    "    return df2"
   ]
  },
  {
   "cell_type": "markdown",
   "metadata": {},
   "source": [
    "# ESPN assists"
   ]
  },
  {
   "cell_type": "code",
   "execution_count": 15,
   "metadata": {},
   "outputs": [],
   "source": [
    "def get_assists_info (year):\n",
    "    \n",
    "    list_years = []\n",
    "    i = year\n",
    "    for num in range(0,1):\n",
    "        list_years.append(str(i))\n",
    "        i+=1\n",
    "        \n",
    "    \n",
    "    links = []\n",
    "    for thing in list_years:\n",
    "        links.append('http://www.espn.com/mens-college-basketball/statistics/team/_/stat/assists/sort/avgPoints/year/'+thing)\n",
    "        links.append('http://www.espn.com/mens-college-basketball/statistics/team/_/stat/assists/sort/avgPoints/year/'+thing+'/count/41')\n",
    "        links.append('http://www.espn.com/mens-college-basketball/statistics/team/_/stat/assists/sort/avgPoints/year/'+thing+'/count/81')\n",
    "        links.append('http://www.espn.com/mens-college-basketball/statistics/team/_/stat/assists/sort/avgPoints/year/'+thing+'/count/121')\n",
    "        links.append('http://www.espn.com/mens-college-basketball/statistics/team/_/stat/assists/sort/avgPoints/year/'+thing+'/count/161')\n",
    "        links.append('http://www.espn.com/mens-college-basketball/statistics/team/_/stat/assists/sort/avgPoints/year/'+thing+'/count/201')\n",
    "        links.append('http://www.espn.com/mens-college-basketball/statistics/team/_/stat/assists/sort/avgPoints/year/'+thing+'/count/241')\n",
    "        links.append('http://www.espn.com/mens-college-basketball/statistics/team/_/stat/assists/sort/avgPoints/year/'+thing+'/count/281')\n",
    "        links.append('http://www.espn.com/mens-college-basketball/statistics/team/_/stat/assists/sort/avgPoints/year/'+thing+'/count/321')\n",
    "    \n",
    "    \n",
    "    names = []\n",
    "    APG = []\n",
    "    AST_TO = []\n",
    "    for link in links:\n",
    "        #print(link)\n",
    "        page = requests.get(link)\n",
    "        soup = BS(page.content, 'html.parser')\n",
    "        idk=soup.select('tr[class^=\"oddrow\"]')\n",
    "        idk2=soup.select('tr[class^=\"evenrow\"]')\n",
    "        i = 0\n",
    "        if len(idk)>len(idk2):\n",
    "            for thing in idk:\n",
    "                try:    \n",
    "                    names.append(thing.select('td')[1].string)\n",
    "                    APG.append(float(thing.select('td')[4].string))\n",
    "                    AST_TO.append(float(thing.select('td')[7].string))\n",
    "                    \n",
    "                    names.append(idk2[i].select('td')[1].string)\n",
    "                    APG.append(float(idk2[i].select('td')[4].string))\n",
    "                    AST_TO.append(float(idk2[i].select('td')[7].string))\n",
    "                    i+=1\n",
    "                except:\n",
    "                    continue\n",
    "                    i+=1\n",
    "        else:\n",
    "            for thing in idk2:\n",
    "                try:    \n",
    "                    names.append(thing.select('td')[1].string)\n",
    "                    APG.append(float(thing.select('td')[4].string))\n",
    "                    AST_TO.append(float(thing.select('td')[7].string))\n",
    "                    \n",
    "                    names.append(idk[i].select('td')[1].string)\n",
    "                    APG.append(float(idk[i].select('td')[4].string))\n",
    "                    AST_TO.append(float(idk[i].select('td')[7].string))\n",
    "                    i+=1\n",
    "                except:\n",
    "                    continue\n",
    "                    i+=1\n",
    "            \n",
    "    D = {'Name':names, 'APG':APG, 'AST_TO':AST_TO}\n",
    "    df2 = pd.DataFrame(data=D)\n",
    "\n",
    "            \n",
    "    return df2"
   ]
  },
  {
   "cell_type": "markdown",
   "metadata": {},
   "source": [
    "# ESPN Steals info"
   ]
  },
  {
   "cell_type": "code",
   "execution_count": 16,
   "metadata": {},
   "outputs": [],
   "source": [
    "def get_steals_info (year):\n",
    "    \n",
    "    list_years = []\n",
    "    i = year\n",
    "    for num in range(0,1):\n",
    "        list_years.append(str(i))\n",
    "        i+=1\n",
    "        \n",
    "    \n",
    "    links = []\n",
    "    for thing in list_years:\n",
    "        links.append('http://www.espn.com/mens-college-basketball/statistics/team/_/stat/steals/sort/avgPoints/year/'+thing)\n",
    "        links.append('http://www.espn.com/mens-college-basketball/statistics/team/_/stat/steals/sort/avgPoints/year/'+thing+'/count/41')\n",
    "        links.append('http://www.espn.com/mens-college-basketball/statistics/team/_/stat/steals/sort/avgPoints/year/'+thing+'/count/81')\n",
    "        links.append('http://www.espn.com/mens-college-basketball/statistics/team/_/stat/steals/sort/avgPoints/year/'+thing+'/count/121')\n",
    "        links.append('http://www.espn.com/mens-college-basketball/statistics/team/_/stat/steals/sort/avgPoints/year/'+thing+'/count/161')\n",
    "        links.append('http://www.espn.com/mens-college-basketball/statistics/team/_/stat/steals/sort/avgPoints/year/'+thing+'/count/201')\n",
    "        links.append('http://www.espn.com/mens-college-basketball/statistics/team/_/stat/steals/sort/avgPoints/year/'+thing+'/count/241')\n",
    "        links.append('http://www.espn.com/mens-college-basketball/statistics/team/_/stat/steals/sort/avgPoints/year/'+thing+'/count/281')\n",
    "        links.append('http://www.espn.com/mens-college-basketball/statistics/team/_/stat/steals/sort/avgPoints/year/'+thing+'/count/321')\n",
    "    \n",
    "    \n",
    "    names = []\n",
    "    STPG = []\n",
    "    for link in links:\n",
    "        #print(link)\n",
    "        page = requests.get(link)\n",
    "        soup = BS(page.content, 'html.parser')\n",
    "        idk=soup.select('tr[class^=\"oddrow\"]')\n",
    "        idk2=soup.select('tr[class^=\"evenrow\"]')\n",
    "        i = 0\n",
    "        if len(idk)>len(idk2):\n",
    "            for thing in idk:\n",
    "                try:    \n",
    "                    names.append(thing.select('td')[1].string)\n",
    "                    STPG.append(float(thing.select('td')[4].string))\n",
    "                    \n",
    "                    names.append(idk2[i].select('td')[1].string)\n",
    "                    STPG.append(float(idk2[i].select('td')[4].string))\n",
    "                    i+=1\n",
    "                except:\n",
    "                    continue\n",
    "                    i+=1\n",
    "        else:\n",
    "            for thing in idk2:\n",
    "                try:    \n",
    "                    names.append(thing.select('td')[1].string)\n",
    "                    STPG.append(float(thing.select('td')[4].string))\n",
    "                    \n",
    "                    names.append(idk[i].select('td')[1].string)\n",
    "                    STPG.append(float(idk[i].select('td')[4].string))\n",
    "                    i+=1\n",
    "                except:\n",
    "                    continue\n",
    "                    i+=1\n",
    "            \n",
    "    D = {'Name':names, 'STPG':STPG}\n",
    "    df2 = pd.DataFrame(data=D)\n",
    "\n",
    "            \n",
    "    return df2"
   ]
  },
  {
   "cell_type": "markdown",
   "metadata": {},
   "source": [
    "# ESPN get blocks"
   ]
  },
  {
   "cell_type": "code",
   "execution_count": 17,
   "metadata": {},
   "outputs": [],
   "source": [
    "def get_blocks_info (year):\n",
    "    \n",
    "    list_years = []\n",
    "    i = year\n",
    "    for num in range(0,1):\n",
    "        list_years.append(str(i))\n",
    "        i+=1\n",
    "        \n",
    "    \n",
    "    links = []\n",
    "    for thing in list_years:\n",
    "        links.append('http://www.espn.com/mens-college-basketball/statistics/team/_/stat/blocks/sort/avgPoints/year/'+thing)\n",
    "        links.append('http://www.espn.com/mens-college-basketball/statistics/team/_/stat/blocks/sort/avgPoints/year/'+thing+'/count/41')\n",
    "        links.append('http://www.espn.com/mens-college-basketball/statistics/team/_/stat/blocks/sort/avgPoints/year/'+thing+'/count/81')\n",
    "        links.append('http://www.espn.com/mens-college-basketball/statistics/team/_/stat/blocks/sort/avgPoints/year/'+thing+'/count/121')\n",
    "        links.append('http://www.espn.com/mens-college-basketball/statistics/team/_/stat/blocks/sort/avgPoints/year/'+thing+'/count/161')\n",
    "        links.append('http://www.espn.com/mens-college-basketball/statistics/team/_/stat/blocks/sort/avgPoints/year/'+thing+'/count/201')\n",
    "        links.append('http://www.espn.com/mens-college-basketball/statistics/team/_/stat/blocks/sort/avgPoints/year/'+thing+'/count/241')\n",
    "        links.append('http://www.espn.com/mens-college-basketball/statistics/team/_/stat/blocks/sort/avgPoints/year/'+thing+'/count/281')\n",
    "        links.append('http://www.espn.com/mens-college-basketball/statistics/team/_/stat/blocks/sort/avgPoints/year/'+thing+'/count/321')\n",
    "    \n",
    "    \n",
    "    names = []\n",
    "    BLKPG = []\n",
    "    for link in links:\n",
    "        #print(link)\n",
    "        page = requests.get(link)\n",
    "        soup = BS(page.content, 'html.parser')\n",
    "        idk=soup.select('tr[class^=\"oddrow\"]')\n",
    "        idk2=soup.select('tr[class^=\"evenrow\"]')\n",
    "        i = 0\n",
    "        if len(idk)>len(idk2):\n",
    "            for thing in idk:\n",
    "                try:    \n",
    "                    names.append(thing.select('td')[1].string)\n",
    "                    BLKPG.append(float(thing.select('td')[5].string))\n",
    "                    \n",
    "                    names.append(idk2[i].select('td')[1].string)\n",
    "                    BLKPG.append(float(idk2[i].select('td')[5].string))\n",
    "                    i+=1\n",
    "                except:\n",
    "                    continue\n",
    "                    i+=1\n",
    "        else:\n",
    "            for thing in idk2:\n",
    "                try:    \n",
    "                    names.append(thing.select('td')[1].string)\n",
    "                    BLKPG.append(float(thing.select('td')[5].string))\n",
    "                    \n",
    "                    names.append(idk[i].select('td')[1].string)\n",
    "                    BLKPG.append(float(idk[i].select('td')[5].string))\n",
    "                    i+=1\n",
    "                except:\n",
    "                    continue\n",
    "                    i+=1\n",
    "            \n",
    "    D = {'Name':names, 'BLKPG':BLKPG}\n",
    "    df2 = pd.DataFrame(data=D)\n",
    "\n",
    "            \n",
    "    return df2"
   ]
  },
  {
   "cell_type": "markdown",
   "metadata": {},
   "source": [
    "# Everything for ESPN - Merges everything also"
   ]
  },
  {
   "cell_type": "code",
   "execution_count": 18,
   "metadata": {},
   "outputs": [],
   "source": [
    "def merge_espn (year):\n",
    "    df3 = get_score_info (year)\n",
    "    df4 = get_rebound_info (year)\n",
    "    df5 = get_field_goal_info (year)\n",
    "    df6=get_3_point_info (year)\n",
    "    df7=get_assists_info (year)\n",
    "    df8=get_steals_info (year)\n",
    "    df9=get_blocks_info (year)\n",
    "    df2=pd.merge(df3,df4, how = 'inner', on = 'Name')\n",
    "    df2=pd.merge(df5,df2, how = 'inner', on = 'Name')\n",
    "    df2=pd.merge(df6,df2, how = 'inner', on = 'Name')\n",
    "    df2=pd.merge(df7,df2, how = 'inner', on = 'Name')\n",
    "    df2=pd.merge(df8,df2, how = 'inner', on = 'Name')\n",
    "    df2=pd.merge(df9,df2, how = 'inner', on = 'Name')\n",
    "    return df2"
   ]
  },
  {
   "cell_type": "markdown",
   "metadata": {},
   "source": [
    "# Merging espn and sports reference"
   ]
  },
  {
   "cell_type": "code",
   "execution_count": 20,
   "metadata": {},
   "outputs": [],
   "source": [
    "#need to run this\n",
    "def find_missing_values (blah):\n",
    "    the_values = []\n",
    "    for thing in list(range(0,126)):\n",
    "        if thing in blah:\n",
    "            continue\n",
    "        else:\n",
    "            #print(thing)\n",
    "            the_values.append(thing)\n",
    "    return the_values\n"
   ]
  },
  {
   "cell_type": "code",
   "execution_count": 21,
   "metadata": {},
   "outputs": [],
   "source": [
    "#still working on this - dont use\n",
    "def add_to_df (name1, num,df, df2, newdf2):\n",
    "    maybe=df2[(df2['Name']==f'{name1}')]\n",
    "    maybe2=newdf2[(newdf2['index']==num)]\n",
    "    dict = {'first_team':list(maybe2['first_team'])[0],'second_team':list(maybe2['second_team'])[0],\n",
    "            'winner':list(maybe2['winner'])[0],\n",
    "            'point_difference':list(maybe2['point_difference'])[0],'result':list(maybe2['result'])[0],\n",
    "            'name':list(maybe2['name'])[0],\n",
    "            'team_rank':list(maybe2['team_rank'])[0],'win':list(maybe2['win'])[0],\n",
    "            'higher_or_lower_seed':list(maybe2['higher_or_lower_seed'])[0],\n",
    "            'index':list(maybe2['index'])[0],'year_x':list(maybe['year'])[0], 'Name': list(maybe['Name'])[0],\n",
    "            'PTS':list(maybe['PTS'])[0],'year_y':list(maybe['year'])[0],\n",
    "            'FG_perc':list(maybe['FG_perc'])[0],'_3p_perc':list(maybe['_3p_perc'])[0],\n",
    "            'FT_perc':list(maybe['FT_perc'])[0],'year_y':list(maybe['year'])[0],\n",
    "            'BLKPG':list(maybe['BLKPG'])[0],'STPG':list(maybe['STPG'])[0],\n",
    "            'APG':list(maybe['APG'])[0],'AST_TO':list(maybe['AST_TO'])[0],\n",
    "            '_3pm':list(maybe['_3pm'])[0],'_3pa':list(maybe['_3pa'])[0],\n",
    "            '_2pm':list(maybe['_2pm'])[0],'_2pa':list(maybe['_2pa'])[0],\n",
    "            '_2p_perc':list(maybe['_2p_perc'])[0],'ORPG':list(maybe['ORPG'])[0],\n",
    "            'DRPG':list(maybe['DRPG'])[0],'RPG':list(maybe['RPG'])[0],}\n",
    "    possibly2=df.append(dict, ignore_index=True)\n",
    "    return possibly2"
   ]
  },
  {
   "cell_type": "markdown",
   "metadata": {},
   "source": [
    "# Making dictionary to reference sports reference and ESPN"
   ]
  },
  {
   "cell_type": "code",
   "execution_count": 22,
   "metadata": {},
   "outputs": [],
   "source": [
    "ESPN_sports_reference_dict = {}"
   ]
  },
  {
   "cell_type": "code",
   "execution_count": 23,
   "metadata": {},
   "outputs": [],
   "source": [
    "ESPN_sports_reference_dict[\"Alabama-Birmingham\"] = \"UAB\""
   ]
  },
  {
   "cell_type": "code",
   "execution_count": 24,
   "metadata": {},
   "outputs": [],
   "source": [
    "ESPN_sports_reference_dict[\"ETSU\"] = \"East Tennessee State\""
   ]
  },
  {
   "cell_type": "code",
   "execution_count": 25,
   "metadata": {},
   "outputs": [],
   "source": [
    "ESPN_sports_reference_dict[\"UNC\"] = \"North Carolina\""
   ]
  },
  {
   "cell_type": "code",
   "execution_count": 26,
   "metadata": {},
   "outputs": [],
   "source": [
    "ESPN_sports_reference_dict[\"St. Joseph's\"] = \"Saint Joseph's\""
   ]
  },
  {
   "cell_type": "code",
   "execution_count": 27,
   "metadata": {},
   "outputs": [],
   "source": [
    "ESPN_sports_reference_dict[\"Pitt\"] = \"Pittsburgh\""
   ]
  },
  {
   "cell_type": "code",
   "execution_count": 28,
   "metadata": {},
   "outputs": [],
   "source": [
    "ESPN_sports_reference_dict[\"UC-Irvine\"] = \"UC Irvine\""
   ]
  },
  {
   "cell_type": "code",
   "execution_count": 29,
   "metadata": {},
   "outputs": [],
   "source": [
    "ESPN_sports_reference_dict[\"Cal State Fullerton\"] = \"CSU Fullerton\""
   ]
  },
  {
   "cell_type": "code",
   "execution_count": 30,
   "metadata": {},
   "outputs": [],
   "source": [
    "ESPN_sports_reference_dict[\"College of Charleston\"] = \"Charleston\""
   ]
  },
  {
   "cell_type": "code",
   "execution_count": 31,
   "metadata": {},
   "outputs": [],
   "source": [
    "ESPN_sports_reference_dict[\"Miami (FL)\"] = \"Miami\""
   ]
  },
  {
   "cell_type": "code",
   "execution_count": 32,
   "metadata": {},
   "outputs": [],
   "source": [
    "ESPN_sports_reference_dict[\"Loyola (IL)\"] = \"Loyola Chicago\""
   ]
  },
  {
   "cell_type": "code",
   "execution_count": 33,
   "metadata": {},
   "outputs": [],
   "source": [
    "ESPN_sports_reference_dict[\"Penn\"] = \"Pennsylvania\""
   ]
  },
  {
   "cell_type": "code",
   "execution_count": 34,
   "metadata": {},
   "outputs": [],
   "source": [
    "ESPN_sports_reference_dict[\"Mount St. Mary's\"] = \"Mt. St. Mary's\""
   ]
  },
  {
   "cell_type": "code",
   "execution_count": 35,
   "metadata": {},
   "outputs": [],
   "source": [
    "ESPN_sports_reference_dict[\"ETSU\"] = \"East Tennessee State\""
   ]
  },
  {
   "cell_type": "code",
   "execution_count": 36,
   "metadata": {},
   "outputs": [],
   "source": [
    "ESPN_sports_reference_dict[\"UC-Davis\"] = \"UC Davis\""
   ]
  },
  {
   "cell_type": "code",
   "execution_count": 37,
   "metadata": {},
   "outputs": [],
   "source": [
    "ESPN_sports_reference_dict[\"Hawaii\"] = \"Hawai'i\""
   ]
  },
  {
   "cell_type": "code",
   "execution_count": 38,
   "metadata": {},
   "outputs": [],
   "source": [
    "ESPN_sports_reference_dict[\"Cal State Bakersfield\"] = \"CSU Bakersfield\""
   ]
  },
  {
   "cell_type": "code",
   "execution_count": 39,
   "metadata": {},
   "outputs": [],
   "source": [
    "ESPN_sports_reference_dict[\"Albany (NY)\"] = \"Albany\""
   ]
  },
  {
   "cell_type": "code",
   "execution_count": 40,
   "metadata": {},
   "outputs": [],
   "source": [
    "ESPN_sports_reference_dict[\"St. John's (NY)\"] = \"St. John's\""
   ]
  },
  {
   "cell_type": "code",
   "execution_count": 41,
   "metadata": {},
   "outputs": [],
   "source": [
    "ESPN_sports_reference_dict[\"Alabama-Birmingham\"] = \"UAB\""
   ]
  },
  {
   "cell_type": "code",
   "execution_count": 42,
   "metadata": {},
   "outputs": [],
   "source": [
    "ESPN_sports_reference_dict[\"Detroit\"] = \"Detroit Mercy\""
   ]
  },
  {
   "cell_type": "code",
   "execution_count": 43,
   "metadata": {},
   "outputs": [],
   "source": [
    "ESPN_sports_reference_dict[\"UCSB\"] = \"UC Santa Barbara\""
   ]
  },
  {
   "cell_type": "code",
   "execution_count": 44,
   "metadata": {},
   "outputs": [],
   "source": [
    "ESPN_sports_reference_dict[\"St. Peter's\"] = \"Saint Peter's\""
   ]
  },
  {
   "cell_type": "code",
   "execution_count": 45,
   "metadata": {},
   "outputs": [],
   "source": [
    "ESPN_sports_reference_dict[\"Cal State Northridge\"] = \"CSU Northridge\""
   ]
  },
  {
   "cell_type": "code",
   "execution_count": 46,
   "metadata": {},
   "outputs": [],
   "source": [
    "ESPN_sports_reference_dict[\"Cal State Fullerton\"] = \"CSU Fullerton\""
   ]
  },
  {
   "cell_type": "code",
   "execution_count": 47,
   "metadata": {},
   "outputs": [],
   "source": [
    "ESPN_sports_reference_dict[\"Texas-Arlington\"] = \"UT Arlington\""
   ]
  },
  {
   "cell_type": "code",
   "execution_count": 48,
   "metadata": {},
   "outputs": [],
   "source": [
    "ESPN_sports_reference_dict[\"Texas A&M-Corpus Christi\"] = \"Texas A&M-CC\""
   ]
  },
  {
   "cell_type": "code",
   "execution_count": 49,
   "metadata": {},
   "outputs": [],
   "source": [
    "ESPN_sports_reference_dict[\"Southeastern Louisiana\"] = \"SE Louisiana\""
   ]
  },
  {
   "cell_type": "code",
   "execution_count": 50,
   "metadata": {},
   "outputs": [],
   "source": [
    "ESPN_sports_reference_dict[\"McNeese State\"] = \"McNeese\""
   ]
  },
  {
   "cell_type": "code",
   "execution_count": 51,
   "metadata": {},
   "outputs": [],
   "source": [
    "ESPN_sports_reference_dict[\"Prairie View\"] = \"Prairie View A&M\""
   ]
  },
  {
   "cell_type": "code",
   "execution_count": 52,
   "metadata": {},
   "outputs": [],
   "source": [
    "ESPN_sports_reference_dict[\"Nicholls State\"] = \"Nicholls\""
   ]
  },
  {
   "cell_type": "code",
   "execution_count": 53,
   "metadata": {},
   "outputs": [],
   "source": [
    "ESPN_sports_reference_dict[\"San Jose State\"] = \"San José St\""
   ]
  },
  {
   "cell_type": "code",
   "execution_count": 54,
   "metadata": {},
   "outputs": [],
   "source": [
    "ESPN_sports_reference_dict[\"Louisiana-Monroe\"] = \"UL Monroe\""
   ]
  },
  {
   "cell_type": "code",
   "execution_count": 55,
   "metadata": {},
   "outputs": [],
   "source": [
    "ESPN_sports_reference_dict[\"Saint Francis (PA)\"] = \"St. Francis (PA)\""
   ]
  },
  {
   "cell_type": "code",
   "execution_count": 56,
   "metadata": {},
   "outputs": [],
   "source": [
    "ESPN_sports_reference_dict[\"LIU\"] = \"Long Island University\""
   ]
  },
  {
   "cell_type": "code",
   "execution_count": 57,
   "metadata": {},
   "outputs": [],
   "source": [
    "ESPN_sports_reference_dict[\"Southeast Missouri State\"] = \"SE Missouri St\""
   ]
  }
 ],
 "metadata": {
  "kernelspec": {
   "display_name": "Python 3",
   "language": "python",
   "name": "python3"
  },
  "language_info": {
   "codemirror_mode": {
    "name": "ipython",
    "version": 3
   },
   "file_extension": ".py",
   "mimetype": "text/x-python",
   "name": "python",
   "nbconvert_exporter": "python",
   "pygments_lexer": "ipython3",
   "version": "3.7.1"
  }
 },
 "nbformat": 4,
 "nbformat_minor": 2
}
